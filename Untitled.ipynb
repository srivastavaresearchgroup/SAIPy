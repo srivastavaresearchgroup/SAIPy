{
 "cells": [
  {
   "cell_type": "code",
   "execution_count": 1,
   "metadata": {},
   "outputs": [],
   "source": [
    "from models import CREIME"
   ]
  },
  {
   "cell_type": "code",
   "execution_count": 2,
   "metadata": {},
   "outputs": [],
   "source": [
    "creime = CREIME()"
   ]
  },
  {
   "cell_type": "code",
   "execution_count": 3,
   "metadata": {},
   "outputs": [
    {
     "name": "stdout",
     "output_type": "stream",
     "text": [
      "Model: \"model_17\"\n",
      "_________________________________________________________________\n",
      " Layer (type)                Output Shape              Param #   \n",
      "=================================================================\n",
      " input_18 (InputLayer)       [(None, 512, 3)]          0         \n",
      "                                                                 \n",
      " conv1d_51 (Conv1D)          (None, 512, 32)           1568      \n",
      "                                                                 \n",
      " max_pooling1d_51 (MaxPoolin  (None, 128, 32)          0         \n",
      " g1D)                                                            \n",
      "                                                                 \n",
      " conv1d_52 (Conv1D)          (None, 128, 16)           8208      \n",
      "                                                                 \n",
      " max_pooling1d_52 (MaxPoolin  (None, 32, 16)           0         \n",
      " g1D)                                                            \n",
      "                                                                 \n",
      " conv1d_53 (Conv1D)          (None, 32, 8)             2056      \n",
      "                                                                 \n",
      " max_pooling1d_53 (MaxPoolin  (None, 8, 8)             0         \n",
      " g1D)                                                            \n",
      "                                                                 \n",
      " bidirectional_34 (Bidirecti  (None, 8, 256)           140288    \n",
      " onal)                                                           \n",
      "                                                                 \n",
      " bidirectional_35 (Bidirecti  (None, 512)              1050624   \n",
      " onal)                                                           \n",
      "                                                                 \n",
      " dense_17 (Dense)            (None, 512)               262656    \n",
      "                                                                 \n",
      "=================================================================\n",
      "Total params: 1,465,400\n",
      "Trainable params: 1,465,400\n",
      "Non-trainable params: 0\n",
      "_________________________________________________________________\n"
     ]
    }
   ],
   "source": [
    "print(creime)"
   ]
  },
  {
   "cell_type": "code",
   "execution_count": 5,
   "metadata": {},
   "outputs": [],
   "source": [
    "model = creime.get_model(False)"
   ]
  },
  {
   "cell_type": "code",
   "execution_count": null,
   "metadata": {},
   "outputs": [],
   "source": []
  }
 ],
 "metadata": {
  "kernelspec": {
   "display_name": "Python 3",
   "language": "python",
   "name": "python3"
  },
  "language_info": {
   "codemirror_mode": {
    "name": "ipython",
    "version": 3
   },
   "file_extension": ".py",
   "mimetype": "text/x-python",
   "name": "python",
   "nbconvert_exporter": "python",
   "pygments_lexer": "ipython3",
   "version": "3.8.10"
  }
 },
 "nbformat": 4,
 "nbformat_minor": 4
}
