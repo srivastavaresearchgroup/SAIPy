{
 "cells": [
  {
   "cell_type": "markdown",
   "id": "27cec4c7",
   "metadata": {},
   "source": [
    "This tutorial shows how to use STA/LTA method including classical and recursive STA/LTA for phase pikcing."
   ]
  },
  {
   "cell_type": "code",
   "execution_count": 1,
   "id": "aacedb81",
   "metadata": {},
   "outputs": [],
   "source": [
    "import sys\n",
    "sys.path.insert(0, '..')\n",
    "from saipy.utils.packagetools import classic_picking\n",
    "from saipy.data.realdata import *"
   ]
  },
  {
   "cell_type": "markdown",
   "id": "e3e46670",
   "metadata": {},
   "source": [
    "### $(\\mathrm{i})$ Benchmark dataset picking including STEAD and INSTANCE"
   ]
  },
  {
   "cell_type": "markdown",
   "id": "d3ccf909",
   "metadata": {},
   "source": [
    "### STEAD dataset"
   ]
  },
  {
   "cell_type": "code",
   "execution_count": null,
   "id": "db1f194f",
   "metadata": {},
   "outputs": [],
   "source": [
    "%load_ext autoreload\n",
    "%autoreload 2\n",
    "from saipy.data.base import STEAD\n",
    "from saipy.utils.picktools import *\n",
    "stead = STEAD('/home/seismoai/data')\n",
    "metadata,waveform = stead.get_dynapicker_data()\n",
    "\n",
    "## here you can manually choose differen trace\n",
    "df = metadata[(metadata.trace_category == 'earthquake_local')]\n",
    "ev_list = df['trace_name'].to_list()[10:11]\n",
    "evi = ev_list[0]\n",
    "dataset = waveform.get('data/'+str(evi)) \n",
    "trace = make_stream_stead(dataset)[2]     "
   ]
  },
  {
   "cell_type": "code",
   "execution_count": null,
   "id": "c913b5f1",
   "metadata": {},
   "outputs": [],
   "source": [
    "print(dataset.attrs['trace_name'])\n",
    "classic_picking(trigger_type = 'recursive_sta_lta', trace = trace, nsta=1, nlta=5, \n",
    "                thr_on=1.25, thr_off=0.5, plotFlag=True)"
   ]
  },
  {
   "cell_type": "markdown",
   "id": "8add7775",
   "metadata": {},
   "source": [
    "### INSTANCE dataset"
   ]
  },
  {
   "cell_type": "code",
   "execution_count": null,
   "id": "b9cd7b03",
   "metadata": {},
   "outputs": [],
   "source": [
    "%load_ext autoreload\n",
    "%autoreload 2\n",
    "from saipy.data.base import INSTANCE\n",
    "from saipy.utils.picktools import *\n",
    "from obspy.core.trace import Trace\n",
    "\n",
    "instance = INSTANCE('/home/seismoai/data')\n",
    "df,waveform = instance.get_dynapicker_data()\n",
    "\n",
    "## here you can manually choose differen trace\n",
    "\n",
    "evi = df['trace_name'].to_list()[100]\n",
    "dataset = waveform.get('data/'+str(evi)) \n",
    "# trace = make_stream_stead(dataset)[2]\n",
    "trace = Trace(dataset[2]) \n",
    "classic_picking(trigger_type = 'classic_sta_lta', \n",
    "                 trace = trace, nsta=5, nlta=100, \n",
    "                 thr_on=10, thr_off=1, plotFlag=True)\n",
    "    "
   ]
  },
  {
   "cell_type": "markdown",
   "id": "66bc43ae",
   "metadata": {},
   "source": [
    "### $(\\mathrm{ii})$ Real-time data"
   ]
  },
  {
   "cell_type": "code",
   "execution_count": null,
   "id": "71e13534",
   "metadata": {},
   "outputs": [],
   "source": [
    "t1 = UTCDateTime(\"2021-07-31T21:05:00\")\n",
    "wsp = 'IRIS'\n",
    "net =  'AE'\n",
    "sta =  '319A'\n",
    "loc = '*'\n",
    "chan = \"*\"\n",
    "start_time = t1\n",
    "end_time = t1 + 60*60\n",
    "\n",
    "st = waveform_download(wsp, net,sta,loc,chan,start_time, end_time)"
   ]
  },
  {
   "cell_type": "code",
   "execution_count": null,
   "id": "96141b0e",
   "metadata": {},
   "outputs": [],
   "source": [
    "classic_picking(trigger_type='classic_sta_lta', trace =st[0], \n",
    "                 nsta=2, nlta=10, thr_on=3.5, thr_off=0.5, \n",
    "                 plotFlag=True)"
   ]
  },
  {
   "cell_type": "code",
   "execution_count": null,
   "id": "f9d011c2",
   "metadata": {},
   "outputs": [],
   "source": [
    "classic_picking(trigger_type='blabla', trace =st[0], \n",
    "                 nsta=2, nlta=10, thr_on=3.5, thr_off=0.5, \n",
    "                 plotFlag=True)"
   ]
  },
  {
   "cell_type": "code",
   "execution_count": null,
   "id": "a3b212d9",
   "metadata": {},
   "outputs": [],
   "source": []
  }
 ],
 "metadata": {
  "kernelspec": {
   "display_name": "Python 3 (ipykernel)",
   "language": "python",
   "name": "python3"
  },
  "language_info": {
   "codemirror_mode": {
    "name": "ipython",
    "version": 3
   },
   "file_extension": ".py",
   "mimetype": "text/x-python",
   "name": "python",
   "nbconvert_exporter": "python",
   "pygments_lexer": "ipython3",
   "version": "3.8.10"
  }
 },
 "nbformat": 4,
 "nbformat_minor": 5
}
