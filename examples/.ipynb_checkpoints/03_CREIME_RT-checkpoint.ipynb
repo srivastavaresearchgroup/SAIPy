{
 "cells": [
  {
   "cell_type": "markdown",
   "id": "069ea579",
   "metadata": {},
   "source": [
    "This notebook demonstrates the use of CREIME_RT, which is an improved version of [CREIME](https://doi.org/10.1029/2022JB024595), for real-time earthquake identification and magnitude estimation."
   ]
  },
  {
   "cell_type": "code",
   "execution_count": null,
   "id": "772dfa4f",
   "metadata": {},
   "outputs": [],
   "source": [
    "import sys\n",
    "sys.path.insert(0, '..')"
   ]
  },
  {
   "cell_type": "markdown",
   "id": "5b503b93",
   "metadata": {},
   "source": [
    "## (1) Testing on STEAD Dataset"
   ]
  },
  {
   "cell_type": "markdown",
   "id": "36b6e22d",
   "metadata": {},
   "source": [
    "### $(\\mathrm{i})$ Loading the data\n",
    "For more information on using this dataset refer to example 01."
   ]
  },
  {
   "cell_type": "code",
   "execution_count": 2,
   "id": "167fefb3",
   "metadata": {
    "scrolled": true
   },
   "outputs": [
    {
     "data": {
      "text/html": [
       "<div>\n",
       "<style scoped>\n",
       "    .dataframe tbody tr th:only-of-type {\n",
       "        vertical-align: middle;\n",
       "    }\n",
       "\n",
       "    .dataframe tbody tr th {\n",
       "        vertical-align: top;\n",
       "    }\n",
       "\n",
       "    .dataframe thead th {\n",
       "        text-align: right;\n",
       "    }\n",
       "</style>\n",
       "<table border=\"1\" class=\"dataframe\">\n",
       "  <thead>\n",
       "    <tr style=\"text-align: right;\">\n",
       "      <th></th>\n",
       "      <th>network_code</th>\n",
       "      <th>receiver_code</th>\n",
       "      <th>receiver_type</th>\n",
       "      <th>receiver_latitude</th>\n",
       "      <th>receiver_longitude</th>\n",
       "      <th>receiver_elevation_m</th>\n",
       "      <th>p_arrival_sample</th>\n",
       "      <th>p_status</th>\n",
       "      <th>p_weight</th>\n",
       "      <th>p_travel_sec</th>\n",
       "      <th>...</th>\n",
       "      <th>source_magnitude_author</th>\n",
       "      <th>source_mechanism_strike_dip_rake</th>\n",
       "      <th>source_distance_deg</th>\n",
       "      <th>source_distance_km</th>\n",
       "      <th>back_azimuth_deg</th>\n",
       "      <th>snr_db</th>\n",
       "      <th>coda_end_sample</th>\n",
       "      <th>trace_start_time</th>\n",
       "      <th>trace_category</th>\n",
       "      <th>trace_name</th>\n",
       "    </tr>\n",
       "  </thead>\n",
       "  <tbody>\n",
       "    <tr>\n",
       "      <th>0</th>\n",
       "      <td>TA</td>\n",
       "      <td>109C</td>\n",
       "      <td>HH</td>\n",
       "      <td>32.8889</td>\n",
       "      <td>-117.1051</td>\n",
       "      <td>150.0</td>\n",
       "      <td>NaN</td>\n",
       "      <td>NaN</td>\n",
       "      <td>NaN</td>\n",
       "      <td>NaN</td>\n",
       "      <td>...</td>\n",
       "      <td>NaN</td>\n",
       "      <td>NaN</td>\n",
       "      <td>NaN</td>\n",
       "      <td>NaN</td>\n",
       "      <td>NaN</td>\n",
       "      <td>NaN</td>\n",
       "      <td>NaN</td>\n",
       "      <td>2015-10-21 05:55:00</td>\n",
       "      <td>noise</td>\n",
       "      <td>109C.TA_201510210555_NO</td>\n",
       "    </tr>\n",
       "    <tr>\n",
       "      <th>1</th>\n",
       "      <td>TA</td>\n",
       "      <td>109C</td>\n",
       "      <td>HH</td>\n",
       "      <td>32.8889</td>\n",
       "      <td>-117.1051</td>\n",
       "      <td>150.0</td>\n",
       "      <td>NaN</td>\n",
       "      <td>NaN</td>\n",
       "      <td>NaN</td>\n",
       "      <td>NaN</td>\n",
       "      <td>...</td>\n",
       "      <td>NaN</td>\n",
       "      <td>NaN</td>\n",
       "      <td>NaN</td>\n",
       "      <td>NaN</td>\n",
       "      <td>NaN</td>\n",
       "      <td>NaN</td>\n",
       "      <td>NaN</td>\n",
       "      <td>2015-11-06 14:50:00</td>\n",
       "      <td>noise</td>\n",
       "      <td>109C.TA_201511061450_NO</td>\n",
       "    </tr>\n",
       "    <tr>\n",
       "      <th>2</th>\n",
       "      <td>TA</td>\n",
       "      <td>109C</td>\n",
       "      <td>HH</td>\n",
       "      <td>32.8889</td>\n",
       "      <td>-117.1051</td>\n",
       "      <td>150.0</td>\n",
       "      <td>NaN</td>\n",
       "      <td>NaN</td>\n",
       "      <td>NaN</td>\n",
       "      <td>NaN</td>\n",
       "      <td>...</td>\n",
       "      <td>NaN</td>\n",
       "      <td>NaN</td>\n",
       "      <td>NaN</td>\n",
       "      <td>NaN</td>\n",
       "      <td>NaN</td>\n",
       "      <td>NaN</td>\n",
       "      <td>NaN</td>\n",
       "      <td>2015-11-07 02:20:00</td>\n",
       "      <td>noise</td>\n",
       "      <td>109C.TA_201511070220_NO</td>\n",
       "    </tr>\n",
       "    <tr>\n",
       "      <th>3</th>\n",
       "      <td>TA</td>\n",
       "      <td>109C</td>\n",
       "      <td>HH</td>\n",
       "      <td>32.8889</td>\n",
       "      <td>-117.1051</td>\n",
       "      <td>150.0</td>\n",
       "      <td>NaN</td>\n",
       "      <td>NaN</td>\n",
       "      <td>NaN</td>\n",
       "      <td>NaN</td>\n",
       "      <td>...</td>\n",
       "      <td>NaN</td>\n",
       "      <td>NaN</td>\n",
       "      <td>NaN</td>\n",
       "      <td>NaN</td>\n",
       "      <td>NaN</td>\n",
       "      <td>NaN</td>\n",
       "      <td>NaN</td>\n",
       "      <td>2015-11-14 05:15:00</td>\n",
       "      <td>noise</td>\n",
       "      <td>109C.TA_201511140515_NO</td>\n",
       "    </tr>\n",
       "    <tr>\n",
       "      <th>4</th>\n",
       "      <td>TA</td>\n",
       "      <td>109C</td>\n",
       "      <td>HH</td>\n",
       "      <td>32.8889</td>\n",
       "      <td>-117.1051</td>\n",
       "      <td>150.0</td>\n",
       "      <td>NaN</td>\n",
       "      <td>NaN</td>\n",
       "      <td>NaN</td>\n",
       "      <td>NaN</td>\n",
       "      <td>...</td>\n",
       "      <td>NaN</td>\n",
       "      <td>NaN</td>\n",
       "      <td>NaN</td>\n",
       "      <td>NaN</td>\n",
       "      <td>NaN</td>\n",
       "      <td>NaN</td>\n",
       "      <td>NaN</td>\n",
       "      <td>2015-12-25 18:50:00</td>\n",
       "      <td>noise</td>\n",
       "      <td>109C.TA_201512251850_NO</td>\n",
       "    </tr>\n",
       "  </tbody>\n",
       "</table>\n",
       "<p>5 rows × 35 columns</p>\n",
       "</div>"
      ],
      "text/plain": [
       "  network_code receiver_code receiver_type  receiver_latitude  \\\n",
       "0           TA          109C            HH            32.8889   \n",
       "1           TA          109C            HH            32.8889   \n",
       "2           TA          109C            HH            32.8889   \n",
       "3           TA          109C            HH            32.8889   \n",
       "4           TA          109C            HH            32.8889   \n",
       "\n",
       "   receiver_longitude  receiver_elevation_m  p_arrival_sample p_status  \\\n",
       "0           -117.1051                 150.0               NaN      NaN   \n",
       "1           -117.1051                 150.0               NaN      NaN   \n",
       "2           -117.1051                 150.0               NaN      NaN   \n",
       "3           -117.1051                 150.0               NaN      NaN   \n",
       "4           -117.1051                 150.0               NaN      NaN   \n",
       "\n",
       "   p_weight  p_travel_sec  ...  source_magnitude_author  \\\n",
       "0       NaN           NaN  ...                      NaN   \n",
       "1       NaN           NaN  ...                      NaN   \n",
       "2       NaN           NaN  ...                      NaN   \n",
       "3       NaN           NaN  ...                      NaN   \n",
       "4       NaN           NaN  ...                      NaN   \n",
       "\n",
       "  source_mechanism_strike_dip_rake  source_distance_deg source_distance_km  \\\n",
       "0                              NaN                  NaN                NaN   \n",
       "1                              NaN                  NaN                NaN   \n",
       "2                              NaN                  NaN                NaN   \n",
       "3                              NaN                  NaN                NaN   \n",
       "4                              NaN                  NaN                NaN   \n",
       "\n",
       "  back_azimuth_deg snr_db  coda_end_sample     trace_start_time  \\\n",
       "0              NaN    NaN              NaN  2015-10-21 05:55:00   \n",
       "1              NaN    NaN              NaN  2015-11-06 14:50:00   \n",
       "2              NaN    NaN              NaN  2015-11-07 02:20:00   \n",
       "3              NaN    NaN              NaN  2015-11-14 05:15:00   \n",
       "4              NaN    NaN              NaN  2015-12-25 18:50:00   \n",
       "\n",
       "  trace_category               trace_name  \n",
       "0          noise  109C.TA_201510210555_NO  \n",
       "1          noise  109C.TA_201511061450_NO  \n",
       "2          noise  109C.TA_201511070220_NO  \n",
       "3          noise  109C.TA_201511140515_NO  \n",
       "4          noise  109C.TA_201512251850_NO  \n",
       "\n",
       "[5 rows x 35 columns]"
      ]
     },
     "metadata": {},
     "output_type": "display_data"
    },
    {
     "name": "stdout",
     "output_type": "stream",
     "text": [
      "Dataset containing 1265657 seismological waveforms.\n",
      "Metadata: Available\n",
      "Waveform data: Available\n"
     ]
    }
   ],
   "source": [
    "from saipy.data.base import STEAD\n",
    "stead = STEAD('/home/seismoai/data')\n",
    "print(stead)"
   ]
  },
  {
   "cell_type": "markdown",
   "id": "cc92f815",
   "metadata": {},
   "source": [
    "### $(\\mathrm{ii})$ Getting Data and Labels in the format for CREIME_RT"
   ]
  },
  {
   "cell_type": "code",
   "execution_count": 3,
   "id": "7c386bef",
   "metadata": {
    "scrolled": true
   },
   "outputs": [
    {
     "name": "stderr",
     "output_type": "stream",
     "text": [
      "100%|██████████| 20/20 [00:00<00:00, 35.60it/s]\n"
     ]
    }
   ],
   "source": [
    "X, y = stead.get_creime_rt_data(stead.trace_list()[-20:])"
   ]
  },
  {
   "cell_type": "code",
   "execution_count": 4,
   "id": "1abb5317",
   "metadata": {
    "scrolled": true
   },
   "outputs": [
    {
     "data": {
      "text/plain": [
       "(20, (20, 6000))"
      ]
     },
     "execution_count": 4,
     "metadata": {},
     "output_type": "execute_result"
    }
   ],
   "source": [
    "len(X), y.shape"
   ]
  },
  {
   "cell_type": "code",
   "execution_count": 5,
   "id": "6b70007d",
   "metadata": {
    "scrolled": true
   },
   "outputs": [],
   "source": [
    "from saipy.utils.visualizations import plot_creime_rt_data"
   ]
  },
  {
   "cell_type": "code",
   "execution_count": 6,
   "id": "91b7bd72",
   "metadata": {
    "scrolled": true
   },
   "outputs": [
    {
     "data": {
      "image/png": "[encoded data removed]",
      "text/plain": [
       "<Figure size 700x800 with 4 Axes>"
      ]
     },
     "metadata": {},
     "output_type": "display_data"
    }
   ],
   "source": [
    "plot_creime_rt_data(X[6], y[6])"
   ]
  },
  {
   "cell_type": "markdown",
   "id": "24a3ef6d",
   "metadata": {},
   "source": [
    "### $(\\mathrm{iii})$ Loading CREIME_RT"
   ]
  },
  {
   "cell_type": "code",
   "execution_count": null,
   "id": "5ad4cbd8",
   "metadata": {
    "scrolled": true
   },
   "outputs": [],
   "source": [
    "from saipy.models.creime import CREIME_RT\n",
    "creime_rt = CREIME_RT()\n",
    "print(creime_rt)"
   ]
  },
  {
   "cell_type": "code",
   "execution_count": null,
   "id": "6cdd451f",
   "metadata": {
    "scrolled": true
   },
   "outputs": [],
   "source": [
    "y_pred, predictions = creime_rt.predict(X)"
   ]
  },
  {
   "cell_type": "code",
   "execution_count": null,
   "id": "0921656d",
   "metadata": {
    "scrolled": true
   },
   "outputs": [],
   "source": [
    "plot_creime_rt_data(X[6], y[6], y_pred[6])"
   ]
  },
  {
   "cell_type": "code",
   "execution_count": null,
   "id": "fafc0c1b",
   "metadata": {
    "scrolled": true
   },
   "outputs": [],
   "source": [
    "predictions"
   ]
  },
  {
   "cell_type": "markdown",
   "id": "6d4a8324",
   "metadata": {},
   "source": [
    "## (2) Testing on INSTANCE Dataset"
   ]
  },
  {
   "cell_type": "markdown",
   "id": "d9535f3a",
   "metadata": {},
   "source": [
    "### $(\\mathrm{i})$ Loading the data\n",
    "For more information on using this dataset refer to example 01."
   ]
  },
  {
   "cell_type": "code",
   "execution_count": null,
   "id": "5b8e8c32",
   "metadata": {
    "scrolled": true
   },
   "outputs": [],
   "source": [
    "import sys\n",
    "sys.path.insert(0, '..')\n",
    "from saipy.data.base import INSTANCE\n",
    "instance = INSTANCE('/home/seismoai/data')\n",
    "print(instance)"
   ]
  },
  {
   "cell_type": "markdown",
   "id": "7ff1bc46",
   "metadata": {},
   "source": [
    "### $(\\mathrm{ii})$ Getting Data and Labels in the format for CREIME_RT"
   ]
  },
  {
   "cell_type": "code",
   "execution_count": null,
   "id": "46bf1056",
   "metadata": {
    "scrolled": true
   },
   "outputs": [],
   "source": [
    "X, y = instance.get_creime_rt_data(traces_n = instance.trace_list_noise()[:10], traces_ev = instance.trace_list_events()[:10])"
   ]
  },
  {
   "cell_type": "code",
   "execution_count": null,
   "id": "8fe8ed51",
   "metadata": {
    "scrolled": true
   },
   "outputs": [],
   "source": [
    "len(X), y.shape"
   ]
  },
  {
   "cell_type": "code",
   "execution_count": null,
   "id": "2121e4ec",
   "metadata": {
    "scrolled": true
   },
   "outputs": [],
   "source": [
    "plot_creime_rt_data(X[16], y[16])"
   ]
  },
  {
   "cell_type": "markdown",
   "id": "02c720e7",
   "metadata": {},
   "source": [
    "### $(\\mathrm{iii})$ Testing CREIME_RT"
   ]
  },
  {
   "cell_type": "code",
   "execution_count": null,
   "id": "e4235742",
   "metadata": {
    "scrolled": true
   },
   "outputs": [],
   "source": [
    "y_pred, predictions = creime_rt.predict(X)"
   ]
  },
  {
   "cell_type": "code",
   "execution_count": null,
   "id": "00c54feb",
   "metadata": {
    "scrolled": true
   },
   "outputs": [],
   "source": [
    "plot_creime_rt_data(X[6], y[6], y_pred[6])"
   ]
  },
  {
   "cell_type": "code",
   "execution_count": null,
   "id": "f9b8f6a5",
   "metadata": {
    "scrolled": false
   },
   "outputs": [],
   "source": [
    "predictions"
   ]
  },
  {
   "cell_type": "markdown",
   "id": "cbeeaa3f",
   "metadata": {},
   "source": [
    "## (3) Retraining"
   ]
  },
  {
   "cell_type": "code",
   "execution_count": null,
   "id": "464ff23a",
   "metadata": {
    "scrolled": true
   },
   "outputs": [],
   "source": [
    "X, y = stead.get_creime_rt_data(stead.trace_list()[-2000:], training = True)"
   ]
  },
  {
   "cell_type": "code",
   "execution_count": null,
   "id": "6b7e4a23",
   "metadata": {
    "scrolled": true
   },
   "outputs": [],
   "source": [
    "model = creime_rt.get_model(untrained = True)"
   ]
  },
  {
   "cell_type": "code",
   "execution_count": null,
   "id": "9976f1cb",
   "metadata": {
    "scrolled": true
   },
   "outputs": [],
   "source": [
    "model.fit(X,y, epochs = 10)"
   ]
  },
  {
   "cell_type": "code",
   "execution_count": null,
   "id": "7cd0ed55",
   "metadata": {},
   "outputs": [],
   "source": []
  }
 ],
 "metadata": {
  "kernelspec": {
   "display_name": "Python 3 (ipykernel)",
   "language": "python",
   "name": "python3"
  },
  "language_info": {
   "codemirror_mode": {
    "name": "ipython",
    "version": 3
   },
   "file_extension": ".py",
   "mimetype": "text/x-python",
   "name": "python",
   "nbconvert_exporter": "python",
   "pygments_lexer": "ipython3",
   "version": "3.8.10"
  }
 },
 "nbformat": 4,
 "nbformat_minor": 5
}
