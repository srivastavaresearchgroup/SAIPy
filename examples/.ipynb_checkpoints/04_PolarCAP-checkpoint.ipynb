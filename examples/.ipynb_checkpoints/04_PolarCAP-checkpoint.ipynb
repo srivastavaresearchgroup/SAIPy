{
 "cells": [
  {
   "cell_type": "markdown",
   "id": "25f87fe3",
   "metadata": {},
   "source": [
    "This notebook demonstrates the use of [PolarCAP](https://doi.org/10.1016/j.aiig.2022.08.001) for first motion polarity classification of earthquake waveforms."
   ]
  },
  {
   "cell_type": "code",
   "execution_count": null,
   "id": "cc09b6c6",
   "metadata": {},
   "outputs": [],
   "source": [
    "import sys\n",
    "sys.path.insert(0, '..')"
   ]
  },
  {
   "cell_type": "markdown",
   "id": "5b503b93",
   "metadata": {},
   "source": [
    "## (1) Testing on STEAD Dataset"
   ]
  },
  {
   "cell_type": "markdown",
   "id": "2fefed6a",
   "metadata": {},
   "source": [
    "### $(\\mathrm{i})$ Loading the data\n",
    "For more information on using this dataset refer to example 01."
   ]
  },
  {
   "cell_type": "code",
   "execution_count": 1,
   "id": "167fefb3",
   "metadata": {},
   "outputs": [
    {
     "data": {
      "text/html": [
       "<div>\n",
       "<style scoped>\n",
       "    .dataframe tbody tr th:only-of-type {\n",
       "        vertical-align: middle;\n",
       "    }\n",
       "\n",
       "    .dataframe tbody tr th {\n",
       "        vertical-align: top;\n",
       "    }\n",
       "\n",
       "    .dataframe thead th {\n",
       "        text-align: right;\n",
       "    }\n",
       "</style>\n",
       "<table border=\"1\" class=\"dataframe\">\n",
       "  <thead>\n",
       "    <tr style=\"text-align: right;\">\n",
       "      <th></th>\n",
       "      <th>network_code</th>\n",
       "      <th>receiver_code</th>\n",
       "      <th>receiver_type</th>\n",
       "      <th>receiver_latitude</th>\n",
       "      <th>receiver_longitude</th>\n",
       "      <th>receiver_elevation_m</th>\n",
       "      <th>p_arrival_sample</th>\n",
       "      <th>p_status</th>\n",
       "      <th>p_weight</th>\n",
       "      <th>p_travel_sec</th>\n",
       "      <th>...</th>\n",
       "      <th>source_magnitude_author</th>\n",
       "      <th>source_mechanism_strike_dip_rake</th>\n",
       "      <th>source_distance_deg</th>\n",
       "      <th>source_distance_km</th>\n",
       "      <th>back_azimuth_deg</th>\n",
       "      <th>snr_db</th>\n",
       "      <th>coda_end_sample</th>\n",
       "      <th>trace_start_time</th>\n",
       "      <th>trace_category</th>\n",
       "      <th>trace_name</th>\n",
       "    </tr>\n",
       "  </thead>\n",
       "  <tbody>\n",
       "    <tr>\n",
       "      <th>0</th>\n",
       "      <td>TA</td>\n",
       "      <td>109C</td>\n",
       "      <td>HH</td>\n",
       "      <td>32.8889</td>\n",
       "      <td>-117.1051</td>\n",
       "      <td>150.0</td>\n",
       "      <td>NaN</td>\n",
       "      <td>NaN</td>\n",
       "      <td>NaN</td>\n",
       "      <td>NaN</td>\n",
       "      <td>...</td>\n",
       "      <td>NaN</td>\n",
       "      <td>NaN</td>\n",
       "      <td>NaN</td>\n",
       "      <td>NaN</td>\n",
       "      <td>NaN</td>\n",
       "      <td>NaN</td>\n",
       "      <td>NaN</td>\n",
       "      <td>2015-10-21 05:55:00</td>\n",
       "      <td>noise</td>\n",
       "      <td>109C.TA_201510210555_NO</td>\n",
       "    </tr>\n",
       "    <tr>\n",
       "      <th>1</th>\n",
       "      <td>TA</td>\n",
       "      <td>109C</td>\n",
       "      <td>HH</td>\n",
       "      <td>32.8889</td>\n",
       "      <td>-117.1051</td>\n",
       "      <td>150.0</td>\n",
       "      <td>NaN</td>\n",
       "      <td>NaN</td>\n",
       "      <td>NaN</td>\n",
       "      <td>NaN</td>\n",
       "      <td>...</td>\n",
       "      <td>NaN</td>\n",
       "      <td>NaN</td>\n",
       "      <td>NaN</td>\n",
       "      <td>NaN</td>\n",
       "      <td>NaN</td>\n",
       "      <td>NaN</td>\n",
       "      <td>NaN</td>\n",
       "      <td>2015-11-06 14:50:00</td>\n",
       "      <td>noise</td>\n",
       "      <td>109C.TA_201511061450_NO</td>\n",
       "    </tr>\n",
       "    <tr>\n",
       "      <th>2</th>\n",
       "      <td>TA</td>\n",
       "      <td>109C</td>\n",
       "      <td>HH</td>\n",
       "      <td>32.8889</td>\n",
       "      <td>-117.1051</td>\n",
       "      <td>150.0</td>\n",
       "      <td>NaN</td>\n",
       "      <td>NaN</td>\n",
       "      <td>NaN</td>\n",
       "      <td>NaN</td>\n",
       "      <td>...</td>\n",
       "      <td>NaN</td>\n",
       "      <td>NaN</td>\n",
       "      <td>NaN</td>\n",
       "      <td>NaN</td>\n",
       "      <td>NaN</td>\n",
       "      <td>NaN</td>\n",
       "      <td>NaN</td>\n",
       "      <td>2015-11-07 02:20:00</td>\n",
       "      <td>noise</td>\n",
       "      <td>109C.TA_201511070220_NO</td>\n",
       "    </tr>\n",
       "    <tr>\n",
       "      <th>3</th>\n",
       "      <td>TA</td>\n",
       "      <td>109C</td>\n",
       "      <td>HH</td>\n",
       "      <td>32.8889</td>\n",
       "      <td>-117.1051</td>\n",
       "      <td>150.0</td>\n",
       "      <td>NaN</td>\n",
       "      <td>NaN</td>\n",
       "      <td>NaN</td>\n",
       "      <td>NaN</td>\n",
       "      <td>...</td>\n",
       "      <td>NaN</td>\n",
       "      <td>NaN</td>\n",
       "      <td>NaN</td>\n",
       "      <td>NaN</td>\n",
       "      <td>NaN</td>\n",
       "      <td>NaN</td>\n",
       "      <td>NaN</td>\n",
       "      <td>2015-11-14 05:15:00</td>\n",
       "      <td>noise</td>\n",
       "      <td>109C.TA_201511140515_NO</td>\n",
       "    </tr>\n",
       "    <tr>\n",
       "      <th>4</th>\n",
       "      <td>TA</td>\n",
       "      <td>109C</td>\n",
       "      <td>HH</td>\n",
       "      <td>32.8889</td>\n",
       "      <td>-117.1051</td>\n",
       "      <td>150.0</td>\n",
       "      <td>NaN</td>\n",
       "      <td>NaN</td>\n",
       "      <td>NaN</td>\n",
       "      <td>NaN</td>\n",
       "      <td>...</td>\n",
       "      <td>NaN</td>\n",
       "      <td>NaN</td>\n",
       "      <td>NaN</td>\n",
       "      <td>NaN</td>\n",
       "      <td>NaN</td>\n",
       "      <td>NaN</td>\n",
       "      <td>NaN</td>\n",
       "      <td>2015-12-25 18:50:00</td>\n",
       "      <td>noise</td>\n",
       "      <td>109C.TA_201512251850_NO</td>\n",
       "    </tr>\n",
       "  </tbody>\n",
       "</table>\n",
       "<p>5 rows × 35 columns</p>\n",
       "</div>"
      ],
      "text/plain": [
       "  network_code receiver_code receiver_type  receiver_latitude  \\\n",
       "0           TA          109C            HH            32.8889   \n",
       "1           TA          109C            HH            32.8889   \n",
       "2           TA          109C            HH            32.8889   \n",
       "3           TA          109C            HH            32.8889   \n",
       "4           TA          109C            HH            32.8889   \n",
       "\n",
       "   receiver_longitude  receiver_elevation_m  p_arrival_sample p_status  \\\n",
       "0           -117.1051                 150.0               NaN      NaN   \n",
       "1           -117.1051                 150.0               NaN      NaN   \n",
       "2           -117.1051                 150.0               NaN      NaN   \n",
       "3           -117.1051                 150.0               NaN      NaN   \n",
       "4           -117.1051                 150.0               NaN      NaN   \n",
       "\n",
       "   p_weight  p_travel_sec  ...  source_magnitude_author  \\\n",
       "0       NaN           NaN  ...                      NaN   \n",
       "1       NaN           NaN  ...                      NaN   \n",
       "2       NaN           NaN  ...                      NaN   \n",
       "3       NaN           NaN  ...                      NaN   \n",
       "4       NaN           NaN  ...                      NaN   \n",
       "\n",
       "  source_mechanism_strike_dip_rake  source_distance_deg source_distance_km  \\\n",
       "0                              NaN                  NaN                NaN   \n",
       "1                              NaN                  NaN                NaN   \n",
       "2                              NaN                  NaN                NaN   \n",
       "3                              NaN                  NaN                NaN   \n",
       "4                              NaN                  NaN                NaN   \n",
       "\n",
       "  back_azimuth_deg snr_db  coda_end_sample     trace_start_time  \\\n",
       "0              NaN    NaN              NaN  2015-10-21 05:55:00   \n",
       "1              NaN    NaN              NaN  2015-11-06 14:50:00   \n",
       "2              NaN    NaN              NaN  2015-11-07 02:20:00   \n",
       "3              NaN    NaN              NaN  2015-11-14 05:15:00   \n",
       "4              NaN    NaN              NaN  2015-12-25 18:50:00   \n",
       "\n",
       "  trace_category               trace_name  \n",
       "0          noise  109C.TA_201510210555_NO  \n",
       "1          noise  109C.TA_201511061450_NO  \n",
       "2          noise  109C.TA_201511070220_NO  \n",
       "3          noise  109C.TA_201511140515_NO  \n",
       "4          noise  109C.TA_201512251850_NO  \n",
       "\n",
       "[5 rows x 35 columns]"
      ]
     },
     "metadata": {},
     "output_type": "display_data"
    },
    {
     "name": "stdout",
     "output_type": "stream",
     "text": [
      "Dataset containing 1265657 seismological waveforms.\n",
      "Metadata: Available\n",
      "Waveform data: Available\n"
     ]
    }
   ],
   "source": [
    "from saipy.data.base import STEAD\n",
    "stead = STEAD('/home/seismoai/data')\n",
    "print(stead)"
   ]
  },
  {
   "cell_type": "markdown",
   "id": "cc92f815",
   "metadata": {},
   "source": [
    "### $(\\mathrm{ii})$ Getting Data and Labels in the format for PolarCAP"
   ]
  },
  {
   "cell_type": "code",
   "execution_count": 2,
   "id": "7c386bef",
   "metadata": {},
   "outputs": [
    {
     "name": "stderr",
     "output_type": "stream",
     "text": [
      "100%|██████████| 20/20 [00:00<00:00, 37.52it/s]\n"
     ]
    }
   ],
   "source": [
    "X = stead.get_polarcap_data(stead.trace_list()[-20:])"
   ]
  },
  {
   "cell_type": "code",
   "execution_count": 3,
   "id": "1abb5317",
   "metadata": {},
   "outputs": [
    {
     "data": {
      "text/plain": [
       "(20, 64)"
      ]
     },
     "execution_count": 3,
     "metadata": {},
     "output_type": "execute_result"
    }
   ],
   "source": [
    "X.shape"
   ]
  },
  {
   "cell_type": "code",
   "execution_count": 4,
   "id": "6b70007d",
   "metadata": {},
   "outputs": [],
   "source": [
    "from saipy.utils.visualizations import plot_polarcap_data"
   ]
  },
  {
   "cell_type": "code",
   "execution_count": 5,
   "id": "91b7bd72",
   "metadata": {},
   "outputs": [
    {
     "data": {
      "image/png": "[encoded data removed]",
      "text/plain": [
       "<Figure size 500x400 with 1 Axes>"
      ]
     },
     "metadata": {},
     "output_type": "display_data"
    }
   ],
   "source": [
    "plot_polarcap_data(X[6])"
   ]
  },
  {
   "cell_type": "markdown",
   "id": "24a3ef6d",
   "metadata": {},
   "source": [
    "### $(\\mathrm{iii})$ Loading PolarCAP"
   ]
  },
  {
   "cell_type": "code",
   "execution_count": null,
   "id": "5ad4cbd8",
   "metadata": {},
   "outputs": [],
   "source": [
    "import sys\n",
    "sys.path.insert(0, '..')\n",
    "from saipy.models.polarcap import PolarCAP\n",
    "polarcap = PolarCAP()\n",
    "print(polarcap)"
   ]
  },
  {
   "cell_type": "code",
   "execution_count": null,
   "id": "6cdd451f",
   "metadata": {},
   "outputs": [],
   "source": [
    "predictions = polarcap.predict(X)"
   ]
  },
  {
   "cell_type": "code",
   "execution_count": null,
   "id": "0921656d",
   "metadata": {},
   "outputs": [],
   "source": [
    "plot_polarcap_data(X[6], y_pred = predictions[6])"
   ]
  },
  {
   "cell_type": "code",
   "execution_count": null,
   "id": "fafc0c1b",
   "metadata": {
    "scrolled": true
   },
   "outputs": [],
   "source": [
    "predictions"
   ]
  },
  {
   "cell_type": "markdown",
   "id": "12523895",
   "metadata": {},
   "source": [
    "## (2) Testing on INSTANCE Dataset"
   ]
  },
  {
   "cell_type": "markdown",
   "id": "0d9faa17",
   "metadata": {},
   "source": [
    "### $(\\mathrm{i})$ Loading the data\n",
    "For more information on using this dataset refer to example 01."
   ]
  },
  {
   "cell_type": "code",
   "execution_count": null,
   "id": "b68d4af2",
   "metadata": {},
   "outputs": [],
   "source": [
    "import sys\n",
    "sys.path.insert(0, '..')\n",
    "from saipy.data.base import INSTANCE\n",
    "instance = INSTANCE('/home/seismoai/data')\n",
    "print(instance)"
   ]
  },
  {
   "cell_type": "markdown",
   "id": "2da6bf5f",
   "metadata": {},
   "source": [
    "### $(\\mathrm{ii})$ Getting Data and Labels in the format for PolarCAP"
   ]
  },
  {
   "cell_type": "code",
   "execution_count": null,
   "id": "0942dc5b",
   "metadata": {},
   "outputs": [],
   "source": [
    "X, y = instance.get_polarcap_data(instance.trace_list_events()[-20:])"
   ]
  },
  {
   "cell_type": "code",
   "execution_count": null,
   "id": "fd2084f4",
   "metadata": {},
   "outputs": [],
   "source": [
    "X.shape, y.shape"
   ]
  },
  {
   "cell_type": "code",
   "execution_count": null,
   "id": "243f3138",
   "metadata": {
    "scrolled": false
   },
   "outputs": [],
   "source": [
    "plot_polarcap_data(X[13], y[13])"
   ]
  },
  {
   "cell_type": "markdown",
   "id": "d63f4454",
   "metadata": {},
   "source": [
    "### $(\\mathrm{iii})$ Testing PolarCAP"
   ]
  },
  {
   "cell_type": "code",
   "execution_count": null,
   "id": "6d201a69",
   "metadata": {},
   "outputs": [],
   "source": [
    "predictions = polarcap.predict(X)"
   ]
  },
  {
   "cell_type": "code",
   "execution_count": null,
   "id": "e3da8ed6",
   "metadata": {},
   "outputs": [],
   "source": [
    "plot_polarcap_data(X[13], y[13], predictions[13])"
   ]
  },
  {
   "cell_type": "markdown",
   "id": "5c1c4578",
   "metadata": {},
   "source": [
    "## (3) Retraining"
   ]
  },
  {
   "cell_type": "code",
   "execution_count": null,
   "id": "9d603ff6",
   "metadata": {},
   "outputs": [],
   "source": [
    "model = polarcap.get_model(untrained = True)"
   ]
  },
  {
   "cell_type": "code",
   "execution_count": null,
   "id": "92987699",
   "metadata": {},
   "outputs": [],
   "source": [
    "X, y = instance.get_polarcap_data(instance.trace_list_events()[-2000:], training = True)"
   ]
  },
  {
   "cell_type": "code",
   "execution_count": null,
   "id": "1692b043",
   "metadata": {},
   "outputs": [],
   "source": [
    "model.fit(X,[X,y], epochs = 10)"
   ]
  },
  {
   "cell_type": "code",
   "execution_count": null,
   "id": "751e1d86",
   "metadata": {},
   "outputs": [],
   "source": [
    "y.shape"
   ]
  },
  {
   "cell_type": "code",
   "execution_count": null,
   "id": "0f7edfb2",
   "metadata": {},
   "outputs": [],
   "source": []
  }
 ],
 "metadata": {
  "kernelspec": {
   "display_name": "Python 3 (ipykernel)",
   "language": "python",
   "name": "python3"
  },
  "language_info": {
   "codemirror_mode": {
    "name": "ipython",
    "version": 3
   },
   "file_extension": ".py",
   "mimetype": "text/x-python",
   "name": "python",
   "nbconvert_exporter": "python",
   "pygments_lexer": "ipython3",
   "version": "3.8.10"
  }
 },
 "nbformat": 4,
 "nbformat_minor": 5
}
