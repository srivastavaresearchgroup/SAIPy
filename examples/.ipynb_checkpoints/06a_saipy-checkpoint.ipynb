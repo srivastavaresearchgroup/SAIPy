{
 "cells": [
  {
   "cell_type": "markdown",
   "id": "2e3fe766",
   "metadata": {},
   "source": [
    "This notebook demonstrates the use of the package for magnituide estimation, phase arrival-time localization and polarity estimation, and saving the result as a csv file."
   ]
  },
  {
   "cell_type": "code",
   "execution_count": 1,
   "id": "250d6bb0",
   "metadata": {},
   "outputs": [
    {
     "name": "stderr",
     "output_type": "stream",
     "text": [
      "/home/seismoai/data/chakraborty/DeepSeis_venv/lib/python3.8/site-packages/tqdm/auto.py:21: TqdmWarning: IProgress not found. Please update jupyter and ipywidgets. See https://ipywidgets.readthedocs.io/en/stable/user_install.html\n",
      "  from .autonotebook import tqdm as notebook_tqdm\n"
     ]
    }
   ],
   "source": [
    "import os\n",
    "import sys\n",
    "sys.path.insert(0, '..')\n",
    "import torch\n",
    "import obspy\n",
    "from obspy import read\n",
    "from obspy.clients.fdsn import Client\n",
    "from obspy import UTCDateTime\n",
    "from saipy.data.realdata import *\n",
    "from saipy.utils.packagetools import *"
   ]
  },
  {
   "cell_type": "markdown",
   "id": "9e39e1cc",
   "metadata": {},
   "source": [
    "### $(\\mathrm{i})$ Downloading real-time waveform "
   ]
  },
  {
   "cell_type": "code",
   "execution_count": 2,
   "id": "705ecd01",
   "metadata": {},
   "outputs": [
    {
     "data": {
      "text/plain": [
       "3 Trace(s) in Stream:\n",
       "PS.TSK..BHE | 2011-03-11T05:44:23.200000Z - 2011-03-11T05:48:16.950000Z | 20.0 Hz, 4676 samples\n",
       "PS.TSK..BHN | 2011-03-11T05:44:23.200000Z - 2011-03-11T05:48:16.950000Z | 20.0 Hz, 4676 samples\n",
       "PS.TSK..BHZ | 2011-03-11T05:44:23.200000Z - 2011-03-11T05:48:16.950000Z | 20.0 Hz, 4676 samples"
      ]
     },
     "execution_count": 2,
     "metadata": {},
     "output_type": "execute_result"
    }
   ],
   "source": [
    "t1 = UTCDateTime(\"2011-03-11T05:46:23.200000Z\")\n",
    "wsp = 'IRIS'\n",
    "network =  'PS'\n",
    "station =  'TSK'\n",
    "location = '*'\n",
    "channel = \"*\"\n",
    "start_time = t1 - 2*60\n",
    "end_time = t1 + 3*60 \n",
    "st = waveform_download(wsp, net=network,sta=station,loc=location,chan=channel,\n",
    "                        starttime=start_time, endtime=end_time)\n",
    "st"
   ]
  },
  {
   "cell_type": "markdown",
   "id": "4fe09786",
   "metadata": {},
   "source": [
    "### $(\\mathrm{ii})$ Windowing data"
   ]
  },
  {
   "cell_type": "code",
   "execution_count": null,
   "id": "d06eb4d4",
   "metadata": {},
   "outputs": [
    {
     "name": "stderr",
     "output_type": "stream",
     "text": [
      "100%|██████████| 2288/2288 [00:00<00:00, 1780439.25it/s]"
     ]
    }
   ],
   "source": [
    "resample_stream, raw_waveform = preprocessing(st) \n",
    "window_waveform, creime_output = data_windows(raw_waveform,shift=10)\n",
    "resample_stream"
   ]
  },
  {
   "cell_type": "markdown",
   "id": "bc95ece0",
   "metadata": {},
   "source": [
    "### $(\\mathrm{iii})$ Body-wave phase picking "
   ]
  },
  {
   "cell_type": "code",
   "execution_count": 4,
   "id": "2a3c77b5",
   "metadata": {},
   "outputs": [
    {
     "name": "stdout",
     "output_type": "stream",
     "text": [
      "Device: cpu\n"
     ]
    },
    {
     "name": "stderr",
     "output_type": "stream",
     "text": [
      "/home/seismoai/data/chakraborty/DeepSeis_venv/lib/python3.8/site-packages/torch/utils/data/dataloader.py:563: UserWarning: This DataLoader will create 2 worker processes in total. Our suggested max number of worker in current system is 1, which is smaller than what this DataLoader is going to create. Please be aware that excessive worker creation might get DataLoader running slow or even freeze, lower the worker number to avoid potential slowness/freeze if necessary.\n",
      "  warnings.warn(_create_warning_msg(\n"
     ]
    }
   ],
   "source": [
    "%load_ext autoreload\n",
    "%autoreload 2\n",
    "device = torch.device('cuda' if torch.cuda.is_available() else 'cpu')\n",
    "print(\"Device:\", device)\n",
    "torch.cuda.empty_cache()\n",
    "\n",
    "# len_win: the duration of the waveform used for phase picking\n",
    "#fremin: min corner frequency for the bandpass filter. \n",
    "#fremax: max corner frequency for the bandpass filter. \n",
    "#fo: filter order. \n",
    "#fs: Sampling Rate, only valid for 100 Hz.\n",
    "dynapicker_output = phase_pick_func(raw_waveform, \n",
    "                                    creime_output, \n",
    "                                    device, \n",
    "                                    leng_win= 30,\n",
    "                                    n_shift=10,\n",
    "                                    fremin=1,\n",
    "                                    batch_size=4,\n",
    "                                    fremax=40,\n",
    "                                    fo=5,\n",
    "                                    fs=100,\n",
    "                                    bandpass_filter=True)"
   ]
  },
  {
   "cell_type": "code",
   "execution_count": 5,
   "id": "c6cdef23",
   "metadata": {},
   "outputs": [
    {
     "data": {
      "text/plain": [
       "[[16710, 16460, 6.1101937],\n",
       " [19760, 20520, 6.0389023],\n",
       " [22080, 22190, 6.510686]]"
      ]
     },
     "execution_count": 5,
     "metadata": {},
     "output_type": "execute_result"
    }
   ],
   "source": [
    "dynapicker_output"
   ]
  },
  {
   "cell_type": "code",
   "execution_count": 6,
   "id": "63d6cb33",
   "metadata": {},
   "outputs": [
    {
     "data": {
      "text/plain": [
       "<matplotlib.lines.Line2D at 0x7f298b81d640>"
      ]
     },
     "execution_count": 6,
     "metadata": {},
     "output_type": "execute_result"
    },
    {
     "data": {
      "image/png": "[encoded data removed]",
      "text/plain": [
       "<Figure size 640x480 with 1 Axes>"
      ]
     },
     "metadata": {},
     "output_type": "display_data"
    }
   ],
   "source": [
    "plt.plot(raw_waveform)\n",
    "plt.axvline(16710)\n",
    "plt.axvline(19760.0)\n",
    "plt.axvline(22072.0)"
   ]
  },
  {
   "cell_type": "markdown",
   "id": "160913b4",
   "metadata": {},
   "source": [
    "### $(\\mathrm{iv})$ Polarity estimation"
   ]
  },
  {
   "cell_type": "code",
   "execution_count": 19,
   "id": "0df0f36c",
   "metadata": {},
   "outputs": [
    {
     "name": "stdout",
     "output_type": "stream",
     "text": [
      "The autoreload extension is already loaded. To reload it, use:\n",
      "  %reload_ext autoreload\n",
      "[('Negative', 1.0)]\n",
      "[('Negative', 1.0)]\n",
      "[('Negative', 1.0)]\n"
     ]
    }
   ],
   "source": [
    "%load_ext autoreload\n",
    "%autoreload 2\n",
    "polarity_pred, _ = polarity_estimation(raw_waveform, dynapicker_output)"
   ]
  },
  {
   "cell_type": "code",
   "execution_count": 20,
   "id": "0304e37f",
   "metadata": {},
   "outputs": [
    {
     "data": {
      "text/plain": [
       "[['Negative', 1.0], ['Negative', 1.0], ['Negative', 1.0]]"
      ]
     },
     "execution_count": 20,
     "metadata": {},
     "output_type": "execute_result"
    }
   ],
   "source": [
    "polarity_pred"
   ]
  },
  {
   "cell_type": "code",
   "execution_count": 18,
   "id": "c4bc0c6c",
   "metadata": {},
   "outputs": [
    {
     "name": "stdout",
     "output_type": "stream",
     "text": [
      "[('Negative', 1.0)]\n",
      "[('Negative', 1.0)]\n",
      "[('Negative', 1.0)]\n"
     ]
    }
   ],
   "source": [
    "polarity_estimation(raw_waveform, dynapicker_output)"
   ]
  },
  {
   "cell_type": "markdown",
   "id": "4d67fd83",
   "metadata": {},
   "source": [
    "### $(\\mathrm{v})$ Result saving as .csv file"
   ]
  },
  {
   "cell_type": "code",
   "execution_count": 21,
   "id": "547b954e",
   "metadata": {},
   "outputs": [
    {
     "name": "stdout",
     "output_type": "stream",
     "text": [
      "The autoreload extension is already loaded. To reload it, use:\n",
      "  %reload_ext autoreload\n"
     ]
    }
   ],
   "source": [
    "%load_ext autoreload\n",
    "%autoreload 2\n",
    "result_save_csv(path= './saving_results', file_name= 'result4.csv', stream= st,\n",
    "                magnitude_result=creime_output, picker_result= dynapicker_output, \n",
    "                polarity_result = polarity_pred)"
   ]
  },
  {
   "cell_type": "code",
   "execution_count": null,
   "id": "a6da18e0",
   "metadata": {},
   "outputs": [],
   "source": []
  }
 ],
 "metadata": {
  "kernelspec": {
   "display_name": "Python 3 (ipykernel)",
   "language": "python",
   "name": "python3"
  },
  "language_info": {
   "codemirror_mode": {
    "name": "ipython",
    "version": 3
   },
   "file_extension": ".py",
   "mimetype": "text/x-python",
   "name": "python",
   "nbconvert_exporter": "python",
   "pygments_lexer": "ipython3",
   "version": "3.8.10"
  },
  "vscode": {
   "interpreter": {
    "hash": "09280467b34d8f0c121bcdc518c8663b2b9d8145014e2f9e23f40361db9d62d2"
   }
  }
 },
 "nbformat": 4,
 "nbformat_minor": 5
}
