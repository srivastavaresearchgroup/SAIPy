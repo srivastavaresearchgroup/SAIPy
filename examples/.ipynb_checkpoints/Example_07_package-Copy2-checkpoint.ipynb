{
 "cells": [
  {
   "cell_type": "markdown",
   "id": "2e3fe766",
   "metadata": {},
   "source": [
    "## Tutorial to use the package\n",
    "This tutorial intorduce how to use the package for phase arrival-time localization and polarity estimation"
   ]
  },
  {
   "cell_type": "code",
   "execution_count": 2,
   "id": "250d6bb0",
   "metadata": {},
   "outputs": [
    {
     "name": "stderr",
     "output_type": "stream",
     "text": [
      "/home/seismoai/data/chakraborty/DeepSeis_venv/lib/python3.8/site-packages/tqdm/auto.py:21: TqdmWarning: IProgress not found. Please update jupyter and ipywidgets. See https://ipywidgets.readthedocs.io/en/stable/user_install.html\n",
      "  from .autonotebook import tqdm as notebook_tqdm\n"
     ]
    }
   ],
   "source": [
    "import os\n",
    "import sys\n",
    "import numpy as np\n",
    "import pandas as pd\n",
    "sys.path.insert(0, '..')\n",
    "from deepseis.utils.picktools import *\n",
    "from deepseis.utils.visualizations import *\n",
    "from deepseis.data.realdata import *\n",
    "import torch\n",
    "import h5py\n",
    "import obspy\n",
    "from obspy import read\n",
    "from obspy.clients.fdsn import Client\n",
    "from obspy import UTCDateTime\n",
    "import datetime\n",
    "import glob\n",
    "import matplotlib.pyplot as plt\n",
    "import matplotlib as mpl\n",
    "import matplotlib.pyplot as plt\n",
    "from matplotlib.dates import date2num\n",
    "from matplotlib.lines import Line2D\n",
    "import matplotlib.dates as mdates\n",
    "import matplotlib.gridspec as gridspec\n",
    "import datetime\n",
    "import warnings"
   ]
  },
  {
   "cell_type": "markdown",
   "id": "9e39e1cc",
   "metadata": {},
   "source": [
    "### Downloading continuous waveform"
   ]
  },
  {
   "cell_type": "code",
   "execution_count": null,
   "id": "24f00506",
   "metadata": {},
   "outputs": [
    {
     "name": "stdout",
     "output_type": "stream",
     "text": [
      "The autoreload extension is already loaded. To reload it, use:\n",
      "  %reload_ext autoreload\n"
     ]
    }
   ],
   "source": [
    "%load_ext autoreload\n",
    "\n",
    "%autoreload 2\n",
    "t1 = UTCDateTime(\"2011-03-12T05:46:23.200000Z\")\n",
    "start_t = t1 - 3*60\n",
    "end_t   = t1 + 3*60 \n",
    "raw_waveform, window_waveform, creime_output = CREIME_RT_cont_outputs(wsp = \"IRIS\", net= \"PS\", sta = \"TSK\", loc= \"*\", \n",
    "                                                 chan = \"*\", starttime=start_t, endtime=end_t, shift=10)"
   ]
  },
  {
   "cell_type": "markdown",
   "id": "896589bf",
   "metadata": {},
   "source": [
    "### Loading dynaopicker model and setting up"
   ]
  },
  {
   "cell_type": "code",
   "execution_count": 47,
   "id": "c1cd37a2",
   "metadata": {},
   "outputs": [
    {
     "name": "stdout",
     "output_type": "stream",
     "text": [
      "Device:  cpu\n"
     ]
    }
   ],
   "source": [
    "# if torch.cuda.is_available():\n",
    "#     device = torch.device('cuda')\n",
    "#     model = torch.jit.load('../deepseis/saved_models/saved_model.pt')\n",
    "# else:\n",
    "#     device = torch.device('cpu')\n",
    "#     model = torch.jit.load('../deepseis/saved_models/saved_model.pt', map_location= device)\n",
    "device = torch.device('cpu')\n",
    "model = torch.jit.load('../deepseis/saved_models/saved_model.pt', map_location= device)\n",
    "print(\"Device: \",device)\n",
    "model = model.to(device)\n",
    "\n",
    "n_shift = 10    # Number of samples to shift the sliding window at a time\n",
    "fremin  = 1     # min corner frequency for the bandpass filter.\n",
    "fremax  = 40    # max corner frequency for the bandpass filter. \n",
    "fo      = 5     # filter order. \n",
    "fs      = 100   # Sampling rate: 100Hz.\n",
    "bandpass_filter = True\n",
    "threp = 0.8\n",
    "thres = 0.8\n",
    "\n",
    "prop_cycle = plt.rcParams['axes.prop_cycle']\n",
    "colors = prop_cycle.by_key()['color']\n",
    "params = {'legend.fontsize': 16,\n",
    "         'axes.labelsize': 16,\n",
    "         'axes.titlesize': 16,\n",
    "         'xtick.labelsize':16,\n",
    "         'ytick.labelsize':16}\n",
    "plt.rcParams.update(params)"
   ]
  },
  {
   "cell_type": "markdown",
   "id": "bc95ece0",
   "metadata": {},
   "source": [
    "### Body-wave phase picking "
   ]
  },
  {
   "cell_type": "code",
   "execution_count": 48,
   "id": "87a33aa1",
   "metadata": {},
   "outputs": [
    {
     "name": "stdout",
     "output_type": "stream",
     "text": [
      "[1567]\n",
      "The autoreload extension is already loaded. To reload it, use:\n",
      "  %reload_ext autoreload\n"
     ]
    }
   ],
   "source": [
    "import numpy as np\n",
    "import gc\n",
    "gc.collect()\n",
    "torch.cuda.empty_cache()\n",
    "\n",
    "from collections import defaultdict\n",
    "\n",
    "window_num = len(creime_output)\n",
    "dynapicker_output = defaultdict(list)\n",
    "window_index = []\n",
    "pre = 0\n",
    "for i in range(len(creime_output)):\n",
    "    if creime_output[i][0] ==1:\n",
    "        window_index.append(i)\n",
    "        pre = i\n",
    "        break\n",
    "\n",
    "for i in range(window_index[0]+1, len(creime_output)):\n",
    "    if creime_output[i][0] ==1 and (i-pre)>3000:\n",
    "        window_index.append(i)\n",
    "        pre = i\n",
    "    else:\n",
    "        continue\n",
    "print(window_index)\n",
    "%load_ext autoreload\n",
    "\n",
    "%autoreload 2        \n",
    "torch.cuda.memory_summary(device=None, abbreviated=False)\n",
    "for id in window_index:\n",
    "    start_sample = id *10\n",
    "    data = raw_waveform[start_sample:start_sample+3000,:] # 30s\n",
    "    stream =  make_stream_array(data)\n",
    "    if hasattr(torch.cuda, 'empty_cache'):\n",
    "        torch.cuda.empty_cache()\n",
    "    prob_p, prob_s, pwave, swave = phase_picking(device, model, stream, bandpass_filter,\n",
    "                                                     n_shift, fremin , fremax, fo, fs)\n",
    "    dynapicker_output[id].append(pwave[0]+start_sample)"
   ]
  },
  {
   "cell_type": "markdown",
   "id": "160913b4",
   "metadata": {},
   "source": [
    "### Polarity estimation"
   ]
  },
  {
   "cell_type": "code",
   "execution_count": 50,
   "id": "00306514",
   "metadata": {},
   "outputs": [
    {
     "name": "stdout",
     "output_type": "stream",
     "text": [
      "[('Negative', 1.0)]\n"
     ]
    }
   ],
   "source": [
    "from deepseis.models.polarcap import PolarCAP\n",
    "polarcap = PolarCAP()\n",
    "for key in dynapicker_output.keys():\n",
    "    index = dynapicker_output[key]\n",
    "    X = raw_waveform[index[0]-32:index[0]+32,2]\n",
    "    predictions = polarcap.predict(X.reshape(1,X.shape[0], 1))\n",
    "    print(predictions)"
   ]
  },
  {
   "cell_type": "code",
   "execution_count": null,
   "id": "a6da18e0",
   "metadata": {},
   "outputs": [],
   "source": []
  }
 ],
 "metadata": {
  "kernelspec": {
   "display_name": "Python 3 (ipykernel)",
   "language": "python",
   "name": "python3"
  },
  "language_info": {
   "codemirror_mode": {
    "name": "ipython",
    "version": 3
   },
   "file_extension": ".py",
   "mimetype": "text/x-python",
   "name": "python",
   "nbconvert_exporter": "python",
   "pygments_lexer": "ipython3",
   "version": "3.8.10"
  },
  "vscode": {
   "interpreter": {
    "hash": "09280467b34d8f0c121bcdc518c8663b2b9d8145014e2f9e23f40361db9d62d2"
   }
  }
 },
 "nbformat": 4,
 "nbformat_minor": 5
}
