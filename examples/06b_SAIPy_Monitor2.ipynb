{
 "cells": [
  {
   "cell_type": "markdown",
   "id": "2e3fe766",
   "metadata": {},
   "source": [
    "This notebook demonstrates the use of the package for magnitude estimation, phase arrival-time localization and polarity estimation, and saving the result as a csv file."
   ]
  },
  {
   "cell_type": "code",
   "execution_count": 1,
   "id": "250d6bb0",
   "metadata": {},
   "outputs": [
    {
     "name": "stderr",
     "output_type": "stream",
     "text": [
      "/home/seismoai/data/chakraborty/DeepSeis_venv/lib/python3.8/site-packages/tqdm/auto.py:21: TqdmWarning: IProgress not found. Please update jupyter and ipywidgets. See https://ipywidgets.readthedocs.io/en/stable/user_install.html\n",
      "  from .autonotebook import tqdm as notebook_tqdm\n"
     ]
    }
   ],
   "source": [
    "import os\n",
    "import sys\n",
    "sys.path.insert(0, '..')\n",
    "import torch\n",
    "import obspy\n",
    "from obspy import read\n",
    "from obspy.clients.fdsn import Client\n",
    "from obspy import UTCDateTime\n",
    "from saipy.data.realdata import *\n",
    "from saipy.utils.packagetools import *"
   ]
  },
  {
   "cell_type": "markdown",
   "id": "080de69e",
   "metadata": {},
   "source": [
    "### Applying SAIPy to downloaded data"
   ]
  },
  {
   "cell_type": "code",
   "execution_count": null,
   "id": "1d12a6be",
   "metadata": {},
   "outputs": [
    {
     "name": "stderr",
     "output_type": "stream",
     "text": [
      "2023-08-17 15:17:24.572737: E tensorflow/stream_executor/cuda/cuda_driver.cc:271] failed call to cuInit: CUDA_ERROR_NO_DEVICE: no CUDA-capable device is detected\n"
     ]
    }
   ],
   "source": [
    "%reload_ext autoreload\n",
    "%autoreload 2\n",
    "device = torch.device('cuda' if torch.cuda.is_available() else 'cpu')\n",
    "\n",
    "monitor2(\"/home/seismoai/data/Turkey_dataset/cross_valiate/New_stations_v2/mseed/CEYT1.mseed\",\n",
    "        device, leng_win=30, save_result=True, \n",
    "        path='./saving_results', file_name='results_Turkey.csv')"
   ]
  },
  {
   "cell_type": "code",
   "execution_count": null,
   "id": "c9ebebd1-2494-4eb2-b2d2-6557241f34ed",
   "metadata": {},
   "outputs": [],
   "source": []
  }
 ],
 "metadata": {
  "kernelspec": {
   "display_name": "Python 3 (ipykernel)",
   "language": "python",
   "name": "python3"
  },
  "language_info": {
   "codemirror_mode": {
    "name": "ipython",
    "version": 3
   },
   "file_extension": ".py",
   "mimetype": "text/x-python",
   "name": "python",
   "nbconvert_exporter": "python",
   "pygments_lexer": "ipython3",
   "version": "3.8.10"
  },
  "vscode": {
   "interpreter": {
    "hash": "09280467b34d8f0c121bcdc518c8663b2b9d8145014e2f9e23f40361db9d62d2"
   }
  }
 },
 "nbformat": 4,
 "nbformat_minor": 5
}
