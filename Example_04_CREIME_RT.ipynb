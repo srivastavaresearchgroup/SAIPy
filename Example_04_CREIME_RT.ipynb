{
 "cells": [
  {
   "cell_type": "markdown",
   "id": "5b503b93",
   "metadata": {},
   "source": [
    "## Loading the Dataset"
   ]
  },
  {
   "cell_type": "code",
   "execution_count": 1,
   "id": "167fefb3",
   "metadata": {},
   "outputs": [
    {
     "data": {
      "text/html": [
       "<div>\n",
       "<style scoped>\n",
       "    .dataframe tbody tr th:only-of-type {\n",
       "        vertical-align: middle;\n",
       "    }\n",
       "\n",
       "    .dataframe tbody tr th {\n",
       "        vertical-align: top;\n",
       "    }\n",
       "\n",
       "    .dataframe thead th {\n",
       "        text-align: right;\n",
       "    }\n",
       "</style>\n",
       "<table border=\"1\" class=\"dataframe\">\n",
       "  <thead>\n",
       "    <tr style=\"text-align: right;\">\n",
       "      <th></th>\n",
       "      <th>network_code</th>\n",
       "      <th>receiver_code</th>\n",
       "      <th>receiver_type</th>\n",
       "      <th>receiver_latitude</th>\n",
       "      <th>receiver_longitude</th>\n",
       "      <th>receiver_elevation_m</th>\n",
       "      <th>p_arrival_sample</th>\n",
       "      <th>p_status</th>\n",
       "      <th>p_weight</th>\n",
       "      <th>p_travel_sec</th>\n",
       "      <th>...</th>\n",
       "      <th>source_magnitude_author</th>\n",
       "      <th>source_mechanism_strike_dip_rake</th>\n",
       "      <th>source_distance_deg</th>\n",
       "      <th>source_distance_km</th>\n",
       "      <th>back_azimuth_deg</th>\n",
       "      <th>snr_db</th>\n",
       "      <th>coda_end_sample</th>\n",
       "      <th>trace_start_time</th>\n",
       "      <th>trace_category</th>\n",
       "      <th>trace_name</th>\n",
       "    </tr>\n",
       "  </thead>\n",
       "  <tbody>\n",
       "    <tr>\n",
       "      <th>0</th>\n",
       "      <td>TA</td>\n",
       "      <td>109C</td>\n",
       "      <td>HH</td>\n",
       "      <td>32.8889</td>\n",
       "      <td>-117.1051</td>\n",
       "      <td>150.0</td>\n",
       "      <td>NaN</td>\n",
       "      <td>NaN</td>\n",
       "      <td>NaN</td>\n",
       "      <td>NaN</td>\n",
       "      <td>...</td>\n",
       "      <td>NaN</td>\n",
       "      <td>NaN</td>\n",
       "      <td>NaN</td>\n",
       "      <td>NaN</td>\n",
       "      <td>NaN</td>\n",
       "      <td>NaN</td>\n",
       "      <td>NaN</td>\n",
       "      <td>2015-10-21 05:55:00</td>\n",
       "      <td>noise</td>\n",
       "      <td>109C.TA_201510210555_NO</td>\n",
       "    </tr>\n",
       "    <tr>\n",
       "      <th>1</th>\n",
       "      <td>TA</td>\n",
       "      <td>109C</td>\n",
       "      <td>HH</td>\n",
       "      <td>32.8889</td>\n",
       "      <td>-117.1051</td>\n",
       "      <td>150.0</td>\n",
       "      <td>NaN</td>\n",
       "      <td>NaN</td>\n",
       "      <td>NaN</td>\n",
       "      <td>NaN</td>\n",
       "      <td>...</td>\n",
       "      <td>NaN</td>\n",
       "      <td>NaN</td>\n",
       "      <td>NaN</td>\n",
       "      <td>NaN</td>\n",
       "      <td>NaN</td>\n",
       "      <td>NaN</td>\n",
       "      <td>NaN</td>\n",
       "      <td>2015-11-06 14:50:00</td>\n",
       "      <td>noise</td>\n",
       "      <td>109C.TA_201511061450_NO</td>\n",
       "    </tr>\n",
       "    <tr>\n",
       "      <th>2</th>\n",
       "      <td>TA</td>\n",
       "      <td>109C</td>\n",
       "      <td>HH</td>\n",
       "      <td>32.8889</td>\n",
       "      <td>-117.1051</td>\n",
       "      <td>150.0</td>\n",
       "      <td>NaN</td>\n",
       "      <td>NaN</td>\n",
       "      <td>NaN</td>\n",
       "      <td>NaN</td>\n",
       "      <td>...</td>\n",
       "      <td>NaN</td>\n",
       "      <td>NaN</td>\n",
       "      <td>NaN</td>\n",
       "      <td>NaN</td>\n",
       "      <td>NaN</td>\n",
       "      <td>NaN</td>\n",
       "      <td>NaN</td>\n",
       "      <td>2015-11-07 02:20:00</td>\n",
       "      <td>noise</td>\n",
       "      <td>109C.TA_201511070220_NO</td>\n",
       "    </tr>\n",
       "    <tr>\n",
       "      <th>3</th>\n",
       "      <td>TA</td>\n",
       "      <td>109C</td>\n",
       "      <td>HH</td>\n",
       "      <td>32.8889</td>\n",
       "      <td>-117.1051</td>\n",
       "      <td>150.0</td>\n",
       "      <td>NaN</td>\n",
       "      <td>NaN</td>\n",
       "      <td>NaN</td>\n",
       "      <td>NaN</td>\n",
       "      <td>...</td>\n",
       "      <td>NaN</td>\n",
       "      <td>NaN</td>\n",
       "      <td>NaN</td>\n",
       "      <td>NaN</td>\n",
       "      <td>NaN</td>\n",
       "      <td>NaN</td>\n",
       "      <td>NaN</td>\n",
       "      <td>2015-11-14 05:15:00</td>\n",
       "      <td>noise</td>\n",
       "      <td>109C.TA_201511140515_NO</td>\n",
       "    </tr>\n",
       "    <tr>\n",
       "      <th>4</th>\n",
       "      <td>TA</td>\n",
       "      <td>109C</td>\n",
       "      <td>HH</td>\n",
       "      <td>32.8889</td>\n",
       "      <td>-117.1051</td>\n",
       "      <td>150.0</td>\n",
       "      <td>NaN</td>\n",
       "      <td>NaN</td>\n",
       "      <td>NaN</td>\n",
       "      <td>NaN</td>\n",
       "      <td>...</td>\n",
       "      <td>NaN</td>\n",
       "      <td>NaN</td>\n",
       "      <td>NaN</td>\n",
       "      <td>NaN</td>\n",
       "      <td>NaN</td>\n",
       "      <td>NaN</td>\n",
       "      <td>NaN</td>\n",
       "      <td>2015-12-25 18:50:00</td>\n",
       "      <td>noise</td>\n",
       "      <td>109C.TA_201512251850_NO</td>\n",
       "    </tr>\n",
       "  </tbody>\n",
       "</table>\n",
       "<p>5 rows × 35 columns</p>\n",
       "</div>"
      ],
      "text/plain": [
       "  network_code receiver_code receiver_type  receiver_latitude  \\\n",
       "0           TA          109C            HH            32.8889   \n",
       "1           TA          109C            HH            32.8889   \n",
       "2           TA          109C            HH            32.8889   \n",
       "3           TA          109C            HH            32.8889   \n",
       "4           TA          109C            HH            32.8889   \n",
       "\n",
       "   receiver_longitude  receiver_elevation_m  p_arrival_sample p_status  \\\n",
       "0           -117.1051                 150.0               NaN      NaN   \n",
       "1           -117.1051                 150.0               NaN      NaN   \n",
       "2           -117.1051                 150.0               NaN      NaN   \n",
       "3           -117.1051                 150.0               NaN      NaN   \n",
       "4           -117.1051                 150.0               NaN      NaN   \n",
       "\n",
       "   p_weight  p_travel_sec  ...  source_magnitude_author  \\\n",
       "0       NaN           NaN  ...                      NaN   \n",
       "1       NaN           NaN  ...                      NaN   \n",
       "2       NaN           NaN  ...                      NaN   \n",
       "3       NaN           NaN  ...                      NaN   \n",
       "4       NaN           NaN  ...                      NaN   \n",
       "\n",
       "  source_mechanism_strike_dip_rake  source_distance_deg source_distance_km  \\\n",
       "0                              NaN                  NaN                NaN   \n",
       "1                              NaN                  NaN                NaN   \n",
       "2                              NaN                  NaN                NaN   \n",
       "3                              NaN                  NaN                NaN   \n",
       "4                              NaN                  NaN                NaN   \n",
       "\n",
       "  back_azimuth_deg snr_db  coda_end_sample     trace_start_time  \\\n",
       "0              NaN    NaN              NaN  2015-10-21 05:55:00   \n",
       "1              NaN    NaN              NaN  2015-11-06 14:50:00   \n",
       "2              NaN    NaN              NaN  2015-11-07 02:20:00   \n",
       "3              NaN    NaN              NaN  2015-11-14 05:15:00   \n",
       "4              NaN    NaN              NaN  2015-12-25 18:50:00   \n",
       "\n",
       "  trace_category               trace_name  \n",
       "0          noise  109C.TA_201510210555_NO  \n",
       "1          noise  109C.TA_201511061450_NO  \n",
       "2          noise  109C.TA_201511070220_NO  \n",
       "3          noise  109C.TA_201511140515_NO  \n",
       "4          noise  109C.TA_201512251850_NO  \n",
       "\n",
       "[5 rows x 35 columns]"
      ]
     },
     "metadata": {},
     "output_type": "display_data"
    },
    {
     "name": "stdout",
     "output_type": "stream",
     "text": [
      "Dataset containing 1265657 seismological waveforms.\n",
      "Metadata: Available\n",
      "Waveform data: Available\n"
     ]
    }
   ],
   "source": [
    "from data import STEAD\n",
    "stead = STEAD('/home/srivastava-shared/data')\n",
    "print(stead)"
   ]
  },
  {
   "cell_type": "markdown",
   "id": "cc92f815",
   "metadata": {},
   "source": [
    "## Getting Data and Labels in the format for CREIME"
   ]
  },
  {
   "cell_type": "code",
   "execution_count": 2,
   "id": "7c386bef",
   "metadata": {},
   "outputs": [
    {
     "name": "stderr",
     "output_type": "stream",
     "text": [
      " 85%|████████▌ | 17/20 [00:00<00:00, 30.57it/s]"
     ]
    }
   ],
   "source": [
    "X, y = stead.get_creime_rt_data(stead.trace_list()[-20:])"
   ]
  },
  {
   "cell_type": "code",
   "execution_count": 3,
   "id": "1abb5317",
   "metadata": {},
   "outputs": [
    {
     "data": {
      "text/plain": [
       "[array([[ 0.38460794, -0.01681431,  8.323111  ],\n",
       "        [ 5.0119405 , -7.367551  , -6.629982  ],\n",
       "        [-0.7932594 , 10.19844   ,  1.375295  ],\n",
       "        ...,\n",
       "        [10.036092  , -9.027016  ,  5.4745464 ],\n",
       "        [16.011913  ,  9.936674  ,  0.44849315],\n",
       "        [ 4.4780884 ,  4.379032  , -1.3328882 ]], dtype=float32),\n",
       " array([[ 48.683228  , -21.809057  ,  15.000697  ],\n",
       "        [ -6.5373497 ,  -0.13117428, -28.90362   ],\n",
       "        [-59.50667   ,  19.267305  , -12.725542  ],\n",
       "        ...,\n",
       "        [ 66.05993   ,  20.516434  ,  29.013844  ],\n",
       "        [-42.999172  ,  -9.722644  , -19.61652   ],\n",
       "        [ -8.4507    ,  17.49311   ,  -0.6475264 ]], dtype=float32),\n",
       " array([[ -16.895485 ,   24.388123 ,   18.358835 ],\n",
       "        [   8.749285 ,   -8.598199 ,    8.71096  ],\n",
       "        [  -2.8154755,   -1.5990313,  -11.397819 ],\n",
       "        ...,\n",
       "        [-137.7836   ,    1.3002766,   27.796373 ],\n",
       "        [-105.41199  ,  -32.21093  ,   70.42985  ],\n",
       "        [-128.71175  ,  130.87837  ,   85.82348  ]], dtype=float32),\n",
       " array([[  0.5201957 ,  -0.21701644,   3.3930504 ],\n",
       "        [  8.517094  , -40.644962  ,   6.4694242 ],\n",
       "        [  4.3821507 ,  24.883904  ,   2.1881704 ],\n",
       "        ...,\n",
       "        [ -4.361044  ,   9.590759  ,  -2.1325817 ],\n",
       "        [-10.425787  ,   9.985197  ,   0.67011243],\n",
       "        [  7.3369565 ,  -9.319697  ,   3.1936803 ]], dtype=float32),\n",
       " array([[ -0.5017949 ,  -1.6903242 ,   0.42223522],\n",
       "        [ -1.4116442 ,  -0.5765203 ,   0.06862319],\n",
       "        [ -0.36516356,  -0.45884135,   0.901077  ],\n",
       "        ...,\n",
       "        [ -1.649725  ,  -8.239578  ,   1.6574678 ],\n",
       "        [  1.2372922 ,  -6.766655  ,   3.3101645 ],\n",
       "        [ -0.67039007, -10.607907  ,   3.4792516 ]], dtype=float32),\n",
       " array([[ -8.050377 ,  -2.2736201,  -0.538356 ],\n",
       "        [  1.9440023,  -7.0285673,  -4.062158 ],\n",
       "        [ -3.5559068,  -5.1732025,  -5.0754085],\n",
       "        ...,\n",
       "        [  0.8121139,  29.63651  ,  -7.933136 ],\n",
       "        [ 38.819603 ,  40.768272 , -20.454163 ],\n",
       "        [ 18.40785  ,  35.07146  ,   4.475379 ]], dtype=float32),\n",
       " array([[  -9.339197 ,  -10.010279 ,   -9.63865  ],\n",
       "        [   6.2459927,  -11.200123 ,    8.289325 ],\n",
       "        [  12.342137 ,   10.146686 ,   -0.4995283],\n",
       "        ...,\n",
       "        [ -50.02673  ,   93.95125  ,  -86.724075 ],\n",
       "        [-135.55638  ,  138.77089  ,  -90.7738   ],\n",
       "        [-217.7377   ,  149.6291   ,   -1.8619959]], dtype=float32),\n",
       " array([[  1.2839172 ,  -0.8739165 ,  -6.6933656 ],\n",
       "        [ -4.1151953 ,  -1.6185709 ,   6.1125956 ],\n",
       "        [ -2.7747393 ,  -6.7415204 ,   0.02929333],\n",
       "        ...,\n",
       "        [  0.40653658,  -3.1716805 ,  -1.8088365 ],\n",
       "        [ 22.742958  ,   4.9669747 , -20.89514   ],\n",
       "        [-13.425052  ,   9.751839  ,  -3.4404747 ]], dtype=float32),\n",
       " array([[ 142.7905  , -339.34918 ,  141.88707 ],\n",
       "        [  43.547207,  156.94402 ,  -65.53862 ],\n",
       "        [-314.1279  ,  -28.195833,  166.19885 ],\n",
       "        ...,\n",
       "        [  -8.139116,   -4.299548,   22.32173 ],\n",
       "        [  -4.031904,   13.873333,   13.566191],\n",
       "        [ -35.0414  ,   30.899706,   -3.508381]], dtype=float32),\n",
       " array([[ -0.40678257,  -3.627931  ,  -3.5403752 ],\n",
       "        [  0.32506993,  -0.7027024 ,  -2.6928313 ],\n",
       "        [  4.457457  ,  -8.284014  ,  -8.095912  ],\n",
       "        ...,\n",
       "        [  0.39623153,  76.10272   ,  80.58317   ],\n",
       "        [128.77951   , 139.50114   , -36.419273  ],\n",
       "        [ 14.020663  , 131.60382   ,  71.73691   ]], dtype=float32),\n",
       " array([[  -22.867598 ,    21.097687 ,     3.5928435],\n",
       "        [  -26.238039 ,    19.00776  ,    34.701683 ],\n",
       "        [  -14.9186   ,     3.2362323,   -10.141004 ],\n",
       "        ...,\n",
       "        [ 2226.0442   ,   352.0927   ,  -453.62155  ],\n",
       "        [ 2755.149    ,  -776.27527  ,    17.658545 ],\n",
       "        [ 2460.1072   , -1411.6306   ,  1016.35223  ]], dtype=float32),\n",
       " array([[ -7.1661305 ,  -0.2661077 ,  -1.8492047 ],\n",
       "        [  1.6936989 ,   0.5456195 ,  -1.574417  ],\n",
       "        [  0.52774405,  -2.9576259 ,  -0.13255243],\n",
       "        ...,\n",
       "        [ -0.6428369 ,  -7.3859797 ,  -2.7868862 ],\n",
       "        [ -9.463052  ,  -1.6139529 , -10.797147  ],\n",
       "        [ -9.106785  ,   2.7820723 ,  -0.08672091]], dtype=float32),\n",
       " array([[-0.6902838 ,  4.0139484 ,  0.6256201 ],\n",
       "        [-6.366166  , -6.3608093 ,  1.4125681 ],\n",
       "        [-4.755692  ,  0.13022292,  3.616341  ],\n",
       "        ...,\n",
       "        [-1.0243545 , -0.05314432, -3.4931421 ],\n",
       "        [-5.4930835 ,  3.6173053 ,  6.8532615 ],\n",
       "        [-6.563199  , -0.41899443,  2.2530315 ]], dtype=float32),\n",
       " array([[  4.8479433 ,   5.4830837 ,  -3.13415   ],\n",
       "        [ -2.166349  ,   2.9463656 ,  -3.5186734 ],\n",
       "        [  0.78500545,  10.733503  ,  -0.68516314],\n",
       "        ...,\n",
       "        [ 37.999466  ,   1.3980511 , -41.07687   ],\n",
       "        [ -2.788243  ,  77.741295  ,  82.54297   ],\n",
       "        [-25.38178   , 113.83439   , 134.65884   ]], dtype=float32),\n",
       " array([[ -0.40552694,  -0.15413363,  -0.86745685],\n",
       "        [ -1.8265905 ,   1.6904463 ,  -2.2168124 ],\n",
       "        [ -1.9576381 ,   0.96454895,  -0.6851017 ],\n",
       "        ...,\n",
       "        [ 61.88523   ,  45.869175  ,  52.906246  ],\n",
       "        [ 25.467392  ,  35.34441   ,  36.800686  ],\n",
       "        [-45.223778  ,  48.813652  ,  19.82296   ]], dtype=float32),\n",
       " array([[ 0.186598 , -5.750211 ,  3.9022276],\n",
       "        [ 3.2744071, -5.111104 ,  6.1016483],\n",
       "        [-9.871714 , -2.202054 ,  4.23318  ],\n",
       "        ...,\n",
       "        [-2.5681877, 13.888917 , -2.68831  ],\n",
       "        [-3.6441777,  1.4100147,  6.1234417],\n",
       "        [-2.6153686, -4.5489774,  8.177646 ]], dtype=float32),\n",
       " array([[  0.12273737,   0.12135141,   0.32021576],\n",
       "        [ -0.17969403,  -0.42736846,   0.60863733],\n",
       "        [ -0.06702062,  -0.5585575 ,   0.37363374],\n",
       "        ...,\n",
       "        [ 31.930365  , -32.012653  ,   4.513989  ],\n",
       "        [ 38.07445   , -38.026516  ,  -0.10738257],\n",
       "        [ 46.088455  , -37.15668   ,  -6.1680646 ]], dtype=float32),\n",
       " array([[ 2.3276384e+00,  5.6472120e+00,  1.5019237e+00],\n",
       "        [ 5.2029262e+00,  1.3538588e+01, -4.7883363e+00],\n",
       "        [ 7.8923030e+00,  1.7047751e+00,  4.7897741e-02],\n",
       "        ...,\n",
       "        [ 2.6789501e+01, -8.4294731e+01, -5.7910397e+01],\n",
       "        [ 2.5603344e+01, -8.5745766e+01, -7.0851234e+01],\n",
       "        [-5.4836721e+00, -5.1665668e+01, -6.7753708e+01]], dtype=float32),\n",
       " array([[-30.483343  ,  -3.4813843 ,   5.6619797 ],\n",
       "        [ -0.46262407,   0.3276273 ,  -8.825599  ],\n",
       "        [-48.521442  ,  10.245874  , -12.003393  ],\n",
       "        ...,\n",
       "        [  1.3598033 ,   7.1386642 ,  -5.6351447 ],\n",
       "        [ -1.316835  ,   0.6507523 ,  -2.7665882 ],\n",
       "        [  9.284532  , -29.42046   ,   2.2405422 ]], dtype=float32),\n",
       " array([[ 2.5988348e+00,  2.1123900e+00, -3.6491580e+00],\n",
       "        [ 7.4712410e+00, -6.9905810e+00,  3.5476885e+00],\n",
       "        [ 2.5189452e+00,  7.3423038e+00, -2.1627750e-02],\n",
       "        ...,\n",
       "        [ 8.1820049e+00,  4.4653065e+01,  1.8520813e+01],\n",
       "        [ 2.6329405e+01,  4.1312943e+00,  2.4821508e+01],\n",
       "        [ 4.9115749e+01, -1.1809418e+00,  9.4067879e+00]], dtype=float32)]"
      ]
     },
     "execution_count": 3,
     "metadata": {},
     "output_type": "execute_result"
    }
   ],
   "source": [
    "X"
   ]
  },
  {
   "cell_type": "code",
   "execution_count": 4,
   "id": "72808b86",
   "metadata": {
    "scrolled": true
   },
   "outputs": [
    {
     "data": {
      "text/plain": [
       "(20, 6000)"
      ]
     },
     "execution_count": 4,
     "metadata": {},
     "output_type": "execute_result"
    }
   ],
   "source": [
    "y.shape"
   ]
  },
  {
   "cell_type": "code",
   "execution_count": 5,
   "id": "6b70007d",
   "metadata": {},
   "outputs": [],
   "source": [
    "from visualizations import plot_creime_rt_data"
   ]
  },
  {
   "cell_type": "code",
   "execution_count": 6,
   "id": "91b7bd72",
   "metadata": {},
   "outputs": [
    {
     "name": "stderr",
     "output_type": "stream",
     "text": [
      "100%|██████████| 20/20 [00:00<00:00, 23.35it/s]\n"
     ]
    },
    {
     "data": {
      "image/png": "[encoded data removed]",
      "text/plain": [
       "<Figure size 504x576 with 4 Axes>"
      ]
     },
     "metadata": {
      "needs_background": "light"
     },
     "output_type": "display_data"
    }
   ],
   "source": [
    "plot_creime_rt_data(X[6], y[6])"
   ]
  },
  {
   "cell_type": "markdown",
   "id": "24a3ef6d",
   "metadata": {},
   "source": [
    "## Loading CREIME_RT"
   ]
  },
  {
   "cell_type": "code",
   "execution_count": 7,
   "id": "5ad4cbd8",
   "metadata": {},
   "outputs": [
    {
     "name": "stdout",
     "output_type": "stream",
     "text": [
      "Model: \"model\"\n",
      "__________________________________________________________________________________________________\n",
      " Layer (type)                   Output Shape         Param #     Connected to                     \n",
      "==================================================================================================\n",
      " input_1 (InputLayer)           [(None, 6000, 3)]    0           []                               \n",
      "                                                                                                  \n",
      " conv1d (Conv1D)                (None, 6000, 64)     1600        ['input_1[0][0]']                \n",
      "                                                                                                  \n",
      " p_re_lu (PReLU)                (None, 6000, 64)     384000      ['conv1d[0][0]']                 \n",
      "                                                                                                  \n",
      " dropout (Dropout)              (None, 6000, 64)     0           ['p_re_lu[0][0]']                \n",
      "                                                                                                  \n",
      " max_pooling1d (MaxPooling1D)   (None, 1500, 64)     0           ['dropout[0][0]']                \n",
      "                                                                                                  \n",
      " conv1d_1 (Conv1D)              (None, 1500, 32)     16416       ['max_pooling1d[0][0]']          \n",
      "                                                                                                  \n",
      " p_re_lu_1 (PReLU)              (None, 1500, 32)     48000       ['conv1d_1[0][0]']               \n",
      "                                                                                                  \n",
      " input_2 (InputLayer)           [(None, 129, 48, 3)  0           []                               \n",
      "                                ]                                                                 \n",
      "                                                                                                  \n",
      " max_pooling1d_1 (MaxPooling1D)  (None, 375, 32)     0           ['p_re_lu_1[0][0]']              \n",
      "                                                                                                  \n",
      " conv2d (Conv2D)                (None, 129, 48, 64)  3136        ['input_2[0][0]']                \n",
      "                                                                                                  \n",
      " conv1d_2 (Conv1D)              (None, 375, 16)      2064        ['max_pooling1d_1[0][0]']        \n",
      "                                                                                                  \n",
      " max_pooling2d (MaxPooling2D)   (None, 64, 24, 64)   0           ['conv2d[0][0]']                 \n",
      "                                                                                                  \n",
      " p_re_lu_2 (PReLU)              (None, 375, 16)      6000        ['conv1d_2[0][0]']               \n",
      "                                                                                                  \n",
      " conv2d_1 (Conv2D)              (None, 61, 21, 32)   32800       ['max_pooling2d[0][0]']          \n",
      "                                                                                                  \n",
      " max_pooling1d_2 (MaxPooling1D)  (None, 94, 16)      0           ['p_re_lu_2[0][0]']              \n",
      "                                                                                                  \n",
      " max_pooling2d_1 (MaxPooling2D)  (None, 30, 10, 32)  0           ['conv2d_1[0][0]']               \n",
      "                                                                                                  \n",
      " conv1d_3 (Conv1D)              (None, 94, 8)        2056        ['max_pooling1d_2[0][0]']        \n",
      "                                                                                                  \n",
      " conv2d_2 (Conv2D)              (None, 27, 7, 8)     4104        ['max_pooling2d_1[0][0]']        \n",
      "                                                                                                  \n",
      " p_re_lu_3 (PReLU)              (None, 94, 8)        752         ['conv1d_3[0][0]']               \n",
      "                                                                                                  \n",
      " max_pooling2d_2 (MaxPooling2D)  (None, 13, 3, 8)    0           ['conv2d_2[0][0]']               \n",
      "                                                                                                  \n",
      " max_pooling1d_3 (MaxPooling1D)  (None, 24, 8)       0           ['p_re_lu_3[0][0]']              \n",
      "                                                                                                  \n",
      " reshape (Reshape)              (None, 39, 8)        0           ['max_pooling2d_2[0][0]']        \n",
      "                                                                                                  \n",
      " concatenate (Concatenate)      (None, 63, 8)        0           ['max_pooling1d_3[0][0]',        \n",
      "                                                                  'reshape[0][0]']                \n",
      "                                                                                                  \n",
      " global_average_pooling1d (Glob  (None, 8)           0           ['concatenate[0][0]']            \n",
      " alAveragePooling1D)                                                                              \n",
      "                                                                                                  \n",
      " dense (Dense)                  (None, 0)            0           ['global_average_pooling1d[0][0]'\n",
      "                                                                 ]                                \n",
      "                                                                                                  \n",
      " activation (Activation)        (None, 0)            0           ['dense[0][0]']                  \n",
      "                                                                                                  \n",
      " dense_1 (Dense)                (None, 8)            8           ['activation[0][0]']             \n",
      "                                                                                                  \n",
      " multiply (Multiply)            (None, 63, 8)        0           ['concatenate[0][0]',            \n",
      "                                                                  'dense_1[0][0]']                \n",
      "                                                                                                  \n",
      " bidirectional (Bidirectional)  (None, 63, 512)      542720      ['multiply[0][0]']               \n",
      "                                                                                                  \n",
      " bidirectional_1 (Bidirectional  (None, 63, 1024)    4198400     ['bidirectional[0][0]']          \n",
      " )                                                                                                \n",
      "                                                                                                  \n",
      " bidirectional_2 (Bidirectional  (None, 1024)        6295552     ['bidirectional_1[0][0]']        \n",
      " )                                                                                                \n",
      "                                                                                                  \n",
      " p_re_lu_4 (PReLU)              (None, 1024)         1024        ['bidirectional_2[0][0]']        \n",
      "                                                                                                  \n",
      " dense_2 (Dense)                (None, 6000)         6150000     ['p_re_lu_4[0][0]']              \n",
      "                                                                                                  \n",
      "==================================================================================================\n",
      "Total params: 17,688,632\n",
      "Trainable params: 17,688,632\n",
      "Non-trainable params: 0\n",
      "__________________________________________________________________________________________________\n"
     ]
    }
   ],
   "source": [
    "from models import CREIME_RT\n",
    "creime_rt = CREIME_RT()\n",
    "print(creime_rt)"
   ]
  },
  {
   "cell_type": "code",
   "execution_count": 8,
   "id": "6cdd451f",
   "metadata": {},
   "outputs": [],
   "source": [
    "y_pred, predictions = creime_rt.predict(X)"
   ]
  },
  {
   "cell_type": "code",
   "execution_count": 9,
   "id": "0921656d",
   "metadata": {},
   "outputs": [
    {
     "data": {
      "image/png": "[encoded data removed]",
      "text/plain": [
       "<Figure size 504x576 with 4 Axes>"
      ]
     },
     "metadata": {
      "needs_background": "light"
     },
     "output_type": "display_data"
    }
   ],
   "source": [
    "plot_creime_rt_data(X[3], y[3], y_pred[3])"
   ]
  },
  {
   "cell_type": "code",
   "execution_count": 10,
   "id": "fafc0c1b",
   "metadata": {},
   "outputs": [
    {
     "data": {
      "text/plain": [
       "[(1, 0.5912117),\n",
       " (1, 0.810013),\n",
       " (1, 1.2239239),\n",
       " (1, 0.8109102),\n",
       " (1, 0.65972584),\n",
       " (1, 1.1471974),\n",
       " (1, 1.2954328),\n",
       " (1, 0.6235431),\n",
       " (1, 1.1177331),\n",
       " (1, 1.5497956),\n",
       " (1, 3.1143708),\n",
       " (1, 1.2015022),\n",
       " (1, 0.909165),\n",
       " (1, 1.3609053),\n",
       " (1, 1.0626423),\n",
       " (1, 0.44676223),\n",
       " (1, 1.0644855),\n",
       " (1, 1.1750411),\n",
       " (1, 0.7565864),\n",
       " (1, 0.75538516)]"
      ]
     },
     "execution_count": 10,
     "metadata": {},
     "output_type": "execute_result"
    }
   ],
   "source": [
    "predictions"
   ]
  },
  {
   "cell_type": "markdown",
   "id": "4092723b",
   "metadata": {},
   "source": [
    "Alternatively"
   ]
  },
  {
   "cell_type": "code",
   "execution_count": 11,
   "id": "66a53f44",
   "metadata": {},
   "outputs": [],
   "source": [
    "model = creime_rt.get_model()"
   ]
  },
  {
   "cell_type": "code",
   "execution_count": null,
   "id": "5d8d1860",
   "metadata": {},
   "outputs": [],
   "source": []
  },
  {
   "cell_type": "code",
   "execution_count": null,
   "id": "2c5ec47c",
   "metadata": {},
   "outputs": [],
   "source": []
  }
 ],
 "metadata": {
  "kernelspec": {
   "display_name": "Python 3",
   "language": "python",
   "name": "python3"
  },
  "language_info": {
   "codemirror_mode": {
    "name": "ipython",
    "version": 3
   },
   "file_extension": ".py",
   "mimetype": "text/x-python",
   "name": "python",
   "nbconvert_exporter": "python",
   "pygments_lexer": "ipython3",
   "version": "3.8.10"
  }
 },
 "nbformat": 4,
 "nbformat_minor": 5
}
