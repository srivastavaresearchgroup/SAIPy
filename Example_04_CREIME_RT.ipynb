{
 "cells": [
  {
   "cell_type": "markdown",
   "id": "5b503b93",
   "metadata": {},
   "source": [
    "## Loading the Dataset"
   ]
  },
  {
   "cell_type": "code",
   "execution_count": 1,
   "id": "167fefb3",
   "metadata": {},
   "outputs": [
    {
     "data": {
      "text/html": [
       "<div>\n",
       "<style scoped>\n",
       "    .dataframe tbody tr th:only-of-type {\n",
       "        vertical-align: middle;\n",
       "    }\n",
       "\n",
       "    .dataframe tbody tr th {\n",
       "        vertical-align: top;\n",
       "    }\n",
       "\n",
       "    .dataframe thead th {\n",
       "        text-align: right;\n",
       "    }\n",
       "</style>\n",
       "<table border=\"1\" class=\"dataframe\">\n",
       "  <thead>\n",
       "    <tr style=\"text-align: right;\">\n",
       "      <th></th>\n",
       "      <th>network_code</th>\n",
       "      <th>receiver_code</th>\n",
       "      <th>receiver_type</th>\n",
       "      <th>receiver_latitude</th>\n",
       "      <th>receiver_longitude</th>\n",
       "      <th>receiver_elevation_m</th>\n",
       "      <th>p_arrival_sample</th>\n",
       "      <th>p_status</th>\n",
       "      <th>p_weight</th>\n",
       "      <th>p_travel_sec</th>\n",
       "      <th>...</th>\n",
       "      <th>source_magnitude_author</th>\n",
       "      <th>source_mechanism_strike_dip_rake</th>\n",
       "      <th>source_distance_deg</th>\n",
       "      <th>source_distance_km</th>\n",
       "      <th>back_azimuth_deg</th>\n",
       "      <th>snr_db</th>\n",
       "      <th>coda_end_sample</th>\n",
       "      <th>trace_start_time</th>\n",
       "      <th>trace_category</th>\n",
       "      <th>trace_name</th>\n",
       "    </tr>\n",
       "  </thead>\n",
       "  <tbody>\n",
       "    <tr>\n",
       "      <th>0</th>\n",
       "      <td>TA</td>\n",
       "      <td>109C</td>\n",
       "      <td>HH</td>\n",
       "      <td>32.8889</td>\n",
       "      <td>-117.1051</td>\n",
       "      <td>150.0</td>\n",
       "      <td>NaN</td>\n",
       "      <td>NaN</td>\n",
       "      <td>NaN</td>\n",
       "      <td>NaN</td>\n",
       "      <td>...</td>\n",
       "      <td>NaN</td>\n",
       "      <td>NaN</td>\n",
       "      <td>NaN</td>\n",
       "      <td>NaN</td>\n",
       "      <td>NaN</td>\n",
       "      <td>NaN</td>\n",
       "      <td>NaN</td>\n",
       "      <td>2015-10-21 05:55:00</td>\n",
       "      <td>noise</td>\n",
       "      <td>109C.TA_201510210555_NO</td>\n",
       "    </tr>\n",
       "    <tr>\n",
       "      <th>1</th>\n",
       "      <td>TA</td>\n",
       "      <td>109C</td>\n",
       "      <td>HH</td>\n",
       "      <td>32.8889</td>\n",
       "      <td>-117.1051</td>\n",
       "      <td>150.0</td>\n",
       "      <td>NaN</td>\n",
       "      <td>NaN</td>\n",
       "      <td>NaN</td>\n",
       "      <td>NaN</td>\n",
       "      <td>...</td>\n",
       "      <td>NaN</td>\n",
       "      <td>NaN</td>\n",
       "      <td>NaN</td>\n",
       "      <td>NaN</td>\n",
       "      <td>NaN</td>\n",
       "      <td>NaN</td>\n",
       "      <td>NaN</td>\n",
       "      <td>2015-11-06 14:50:00</td>\n",
       "      <td>noise</td>\n",
       "      <td>109C.TA_201511061450_NO</td>\n",
       "    </tr>\n",
       "    <tr>\n",
       "      <th>2</th>\n",
       "      <td>TA</td>\n",
       "      <td>109C</td>\n",
       "      <td>HH</td>\n",
       "      <td>32.8889</td>\n",
       "      <td>-117.1051</td>\n",
       "      <td>150.0</td>\n",
       "      <td>NaN</td>\n",
       "      <td>NaN</td>\n",
       "      <td>NaN</td>\n",
       "      <td>NaN</td>\n",
       "      <td>...</td>\n",
       "      <td>NaN</td>\n",
       "      <td>NaN</td>\n",
       "      <td>NaN</td>\n",
       "      <td>NaN</td>\n",
       "      <td>NaN</td>\n",
       "      <td>NaN</td>\n",
       "      <td>NaN</td>\n",
       "      <td>2015-11-07 02:20:00</td>\n",
       "      <td>noise</td>\n",
       "      <td>109C.TA_201511070220_NO</td>\n",
       "    </tr>\n",
       "    <tr>\n",
       "      <th>3</th>\n",
       "      <td>TA</td>\n",
       "      <td>109C</td>\n",
       "      <td>HH</td>\n",
       "      <td>32.8889</td>\n",
       "      <td>-117.1051</td>\n",
       "      <td>150.0</td>\n",
       "      <td>NaN</td>\n",
       "      <td>NaN</td>\n",
       "      <td>NaN</td>\n",
       "      <td>NaN</td>\n",
       "      <td>...</td>\n",
       "      <td>NaN</td>\n",
       "      <td>NaN</td>\n",
       "      <td>NaN</td>\n",
       "      <td>NaN</td>\n",
       "      <td>NaN</td>\n",
       "      <td>NaN</td>\n",
       "      <td>NaN</td>\n",
       "      <td>2015-11-14 05:15:00</td>\n",
       "      <td>noise</td>\n",
       "      <td>109C.TA_201511140515_NO</td>\n",
       "    </tr>\n",
       "    <tr>\n",
       "      <th>4</th>\n",
       "      <td>TA</td>\n",
       "      <td>109C</td>\n",
       "      <td>HH</td>\n",
       "      <td>32.8889</td>\n",
       "      <td>-117.1051</td>\n",
       "      <td>150.0</td>\n",
       "      <td>NaN</td>\n",
       "      <td>NaN</td>\n",
       "      <td>NaN</td>\n",
       "      <td>NaN</td>\n",
       "      <td>...</td>\n",
       "      <td>NaN</td>\n",
       "      <td>NaN</td>\n",
       "      <td>NaN</td>\n",
       "      <td>NaN</td>\n",
       "      <td>NaN</td>\n",
       "      <td>NaN</td>\n",
       "      <td>NaN</td>\n",
       "      <td>2015-12-25 18:50:00</td>\n",
       "      <td>noise</td>\n",
       "      <td>109C.TA_201512251850_NO</td>\n",
       "    </tr>\n",
       "  </tbody>\n",
       "</table>\n",
       "<p>5 rows × 35 columns</p>\n",
       "</div>"
      ],
      "text/plain": [
       "  network_code receiver_code receiver_type  receiver_latitude  \\\n",
       "0           TA          109C            HH            32.8889   \n",
       "1           TA          109C            HH            32.8889   \n",
       "2           TA          109C            HH            32.8889   \n",
       "3           TA          109C            HH            32.8889   \n",
       "4           TA          109C            HH            32.8889   \n",
       "\n",
       "   receiver_longitude  receiver_elevation_m  p_arrival_sample p_status  \\\n",
       "0           -117.1051                 150.0               NaN      NaN   \n",
       "1           -117.1051                 150.0               NaN      NaN   \n",
       "2           -117.1051                 150.0               NaN      NaN   \n",
       "3           -117.1051                 150.0               NaN      NaN   \n",
       "4           -117.1051                 150.0               NaN      NaN   \n",
       "\n",
       "   p_weight  p_travel_sec  ...  source_magnitude_author  \\\n",
       "0       NaN           NaN  ...                      NaN   \n",
       "1       NaN           NaN  ...                      NaN   \n",
       "2       NaN           NaN  ...                      NaN   \n",
       "3       NaN           NaN  ...                      NaN   \n",
       "4       NaN           NaN  ...                      NaN   \n",
       "\n",
       "  source_mechanism_strike_dip_rake  source_distance_deg source_distance_km  \\\n",
       "0                              NaN                  NaN                NaN   \n",
       "1                              NaN                  NaN                NaN   \n",
       "2                              NaN                  NaN                NaN   \n",
       "3                              NaN                  NaN                NaN   \n",
       "4                              NaN                  NaN                NaN   \n",
       "\n",
       "  back_azimuth_deg snr_db  coda_end_sample     trace_start_time  \\\n",
       "0              NaN    NaN              NaN  2015-10-21 05:55:00   \n",
       "1              NaN    NaN              NaN  2015-11-06 14:50:00   \n",
       "2              NaN    NaN              NaN  2015-11-07 02:20:00   \n",
       "3              NaN    NaN              NaN  2015-11-14 05:15:00   \n",
       "4              NaN    NaN              NaN  2015-12-25 18:50:00   \n",
       "\n",
       "  trace_category               trace_name  \n",
       "0          noise  109C.TA_201510210555_NO  \n",
       "1          noise  109C.TA_201511061450_NO  \n",
       "2          noise  109C.TA_201511070220_NO  \n",
       "3          noise  109C.TA_201511140515_NO  \n",
       "4          noise  109C.TA_201512251850_NO  \n",
       "\n",
       "[5 rows x 35 columns]"
      ]
     },
     "metadata": {},
     "output_type": "display_data"
    },
    {
     "name": "stdout",
     "output_type": "stream",
     "text": [
      "Dataset containing 1265657 seismological waveforms.\n",
      "Metadata: Available\n",
      "Waveform data: Available\n"
     ]
    }
   ],
   "source": [
    "from data import STEAD\n",
    "stead = STEAD('/home/srivastava-shared/data')\n",
    "print(stead)"
   ]
  },
  {
   "cell_type": "markdown",
   "id": "cc92f815",
   "metadata": {},
   "source": [
    "## Getting Data and Labels in the format for CREIME"
   ]
  },
  {
   "cell_type": "code",
   "execution_count": 2,
   "id": "7c386bef",
   "metadata": {},
   "outputs": [
    {
     "name": "stderr",
     "output_type": "stream",
     "text": [
      " 80%|████████  | 16/20 [00:00<00:00, 28.38it/s]"
     ]
    }
   ],
   "source": [
    "X, y = stead.get_creime_rt_data(stead.trace_list()[-20:])"
   ]
  },
  {
   "cell_type": "code",
   "execution_count": 3,
   "id": "1abb5317",
   "metadata": {},
   "outputs": [
    {
     "data": {
      "text/plain": [
       "[array([[ -4.6691837,   8.1942625,  -3.4905932],\n",
       "        [ -8.825242 ,   3.316561 ,  -2.6261344],\n",
       "        [ -5.0431643,   4.2095633,  -2.7576644],\n",
       "        ...,\n",
       "        [  4.137321 ,   9.139245 ,  -6.771683 ],\n",
       "        [ -1.0408942,  16.24446  , -15.898888 ],\n",
       "        [-10.2339525,   4.932671 ,  -5.100409 ]], dtype=float32),\n",
       " array([[ 32.384384  ,  14.683218  ,  -6.9577217 ],\n",
       "        [ -4.6431026 , -12.711743  ,   4.774316  ],\n",
       "        [ 20.61114   , -21.363838  ,   2.685027  ],\n",
       "        ...,\n",
       "        [-13.658288  ,   0.83383495,  18.149914  ],\n",
       "        [  2.283843  ,  14.037079  ,  19.649233  ],\n",
       "        [  6.540404  , -25.269064  ,   1.5755206 ]], dtype=float32),\n",
       " array([[ -5.656401  ,   0.8387044 ,  17.084286  ],\n",
       "        [ 13.030329  , -13.104409  ,  31.997667  ],\n",
       "        [ -9.498771  , -11.276993  ,  -9.740155  ],\n",
       "        ...,\n",
       "        [ -6.13372   ,  -6.640191  ,   8.058543  ],\n",
       "        [  7.2052073 ,  -2.2243316 ,  -0.984556  ],\n",
       "        [ -0.29667428,  22.106665  ,  -2.7046964 ]], dtype=float32),\n",
       " array([[-10.382436  , -40.113144  ,  18.883726  ],\n",
       "        [ 23.353634  ,  12.55128   , -11.556761  ],\n",
       "        [ -4.535847  ,  29.564259  , -18.255453  ],\n",
       "        ...,\n",
       "        [ -1.4160634 , -20.91953   ,  15.061449  ],\n",
       "        [ -8.510779  , -26.093344  ,  -0.34280568],\n",
       "        [  1.9138522 ,  30.414867  ,  -1.0344908 ]], dtype=float32),\n",
       " array([[-0.04003829,  0.14151761, -0.06028391],\n",
       "        [-0.06077998,  0.1277724 ,  0.03495356],\n",
       "        [-0.01188039, -0.04093334,  0.05031026],\n",
       "        ...,\n",
       "        [-1.6942712 ,  1.7329035 ,  1.9079047 ],\n",
       "        [-4.823754  , -3.3314235 ,  1.3564078 ],\n",
       "        [ 1.6813679 , -0.9727024 ,  0.26149708]], dtype=float32),\n",
       " array([[ -6.0563297,   6.223193 ,   3.811394 ],\n",
       "        [  3.1082802,   1.6260003,  -7.3076525],\n",
       "        [  0.9621767,  -1.5083983,   1.6463269],\n",
       "        ...,\n",
       "        [ -4.5428967,   3.7867596,   9.958711 ],\n",
       "        [-12.280113 ,  -6.947638 ,   3.5722494],\n",
       "        [ -3.7012975,   1.5909362,  10.105843 ]], dtype=float32),\n",
       " array([[  19.705233 ,   -7.1615586,   -5.753162 ],\n",
       "        [  32.90772  ,   -7.422411 ,   10.287133 ],\n",
       "        [ -34.309586 ,   27.602337 ,  -15.173605 ],\n",
       "        ...,\n",
       "        [  71.98305  , -105.77066  ,  -70.80981  ],\n",
       "        [ -36.58196  ,  -74.69829  , -148.00533  ],\n",
       "        [-194.51643  ,  -55.58827  , -146.80257  ]], dtype=float32),\n",
       " array([[  6.4052606 ,   6.7270975 ,  15.273841  ],\n",
       "        [-14.765906  ,  -3.667366  ,  -8.542117  ],\n",
       "        [  7.8194394 ,  21.343723  ,  -9.354263  ],\n",
       "        ...,\n",
       "        [-12.171767  ,  -2.9600186 ,  -6.933526  ],\n",
       "        [  0.43323877,  -2.9806821 ,  16.305717  ],\n",
       "        [  5.996616  ,  -8.31491   ,   1.2990161 ]], dtype=float32),\n",
       " array([[-101.85785  ,   -3.1164627,   22.104269 ],\n",
       "        [  -7.5211725,  -11.0831375,  -86.67621  ],\n",
       "        [  13.325981 ,   32.81316  ,   63.9027   ],\n",
       "        ...,\n",
       "        [  28.528107 ,   47.537823 ,   -7.079425 ],\n",
       "        [ -40.70641  ,  -54.42341  ,    9.302375 ],\n",
       "        [  28.982922 ,  -31.666103 ,   11.941422 ]], dtype=float32),\n",
       " array([[-1.560636  , -5.7553806 ,  0.9059431 ],\n",
       "        [ 2.7717376 , -3.808744  , -2.5682726 ],\n",
       "        [ 7.2074246 ,  8.075715  , -0.44376728],\n",
       "        ...,\n",
       "        [ 2.0783541 , -7.7613406 , -2.0468454 ],\n",
       "        [-1.3010085 ,  2.2319007 , -3.9905095 ],\n",
       "        [ 0.15669762, -7.5186915 ,  3.9433932 ]], dtype=float32),\n",
       " array([[ 23.073555 ,  -7.155592 ,  26.985788 ],\n",
       "        [ 19.670458 , -30.948008 ,  18.100124 ],\n",
       "        [ 22.464222 , -38.44193  ,  -5.9150505],\n",
       "        ...,\n",
       "        [ -3.780366 , -73.22228  , -46.949837 ],\n",
       "        [-15.408237 , -18.801373 , -55.171833 ],\n",
       "        [-17.721743 ,  13.752253 , -25.412235 ]], dtype=float32),\n",
       " array([[   8.475662 ,   -6.005329 ,    5.1609845],\n",
       "        [   2.023051 ,   -4.262983 ,    6.7308254],\n",
       "        [   1.958365 ,    1.36581  ,   10.520386 ],\n",
       "        ...,\n",
       "        [ 314.08926  ,  533.41925  ,   28.99946  ],\n",
       "        [ 422.9158   ,  507.7987   , -145.05722  ],\n",
       "        [ 331.07663  ,  315.07236  ,  -26.565018 ]], dtype=float32),\n",
       " array([[-0.05386954, -3.6533241 ,  9.302985  ],\n",
       "        [-2.4351776 ,  2.009307  ,  1.2730953 ],\n",
       "        [-0.17133148,  3.1238651 ,  5.425209  ],\n",
       "        ...,\n",
       "        [ 2.3488727 , -1.4521579 ,  5.292847  ],\n",
       "        [-0.48650074,  1.2049928 , -4.2613997 ],\n",
       "        [-2.2810268 ,  7.6031156 , -2.2857397 ]], dtype=float32),\n",
       " array([[-2.9348688, -7.346745 , -1.3152901],\n",
       "        [ 1.750207 , -4.951565 , -4.5788913],\n",
       "        [-2.4801843,  8.070585 , -4.549267 ],\n",
       "        ...,\n",
       "        [ 9.757543 , -4.1055455, -5.1499915],\n",
       "        [ 7.793468 , -3.9913812,  3.1124153],\n",
       "        [ 3.6745925, -5.0280166, -1.8072178]], dtype=float32),\n",
       " array([[  6.544152 ,   6.037813 ,  -9.062599 ],\n",
       "        [  0.8006882,   8.873362 , -11.589677 ],\n",
       "        [  4.909206 ,   3.0721407,  -1.2909982],\n",
       "        ...,\n",
       "        [-15.792666 , -14.132519 ,  -5.661996 ],\n",
       "        [ -7.670744 ,  12.02775  ,   6.5400944],\n",
       "        [ -5.5466986,  -4.2913785,   8.063863 ]], dtype=float32),\n",
       " array([[  2.278041  ,  -1.4738517 ,  -3.0317173 ],\n",
       "        [  1.9985125 ,   0.77916235,   0.08967016],\n",
       "        [ -2.1422687 ,  -4.049365  ,  -2.2298582 ],\n",
       "        ...,\n",
       "        [ 15.295113  , -11.526671  , -10.570154  ],\n",
       "        [  6.9050035 , -16.602674  ,   2.807583  ],\n",
       "        [  3.699587  , -26.7174    ,  -0.5648966 ]], dtype=float32),\n",
       " array([[-15.505651  ,   7.240054  ,   3.3497572 ],\n",
       "        [ -5.797794  ,   2.0032895 ,   0.287588  ],\n",
       "        [  0.67577296,   4.8408756 ,  -1.81067   ],\n",
       "        ...,\n",
       "        [ 22.550808  ,  -4.3667197 ,  37.080715  ],\n",
       "        [ 50.518677  , -20.678905  ,  22.532719  ],\n",
       "        [ 58.21358   , -30.798521  ,   4.4610677 ]], dtype=float32),\n",
       " array([[   4.9067945,   -6.332255 ,    3.4124231],\n",
       "        [   5.037297 ,    5.8929954,    4.282058 ],\n",
       "        [   4.0220876,    3.3343134,    3.5890238],\n",
       "        ...,\n",
       "        [-166.24945  ,  137.58939  ,  -28.379972 ],\n",
       "        [-134.93045  ,   67.061775 ,  -52.644096 ],\n",
       "        [ -86.40319  ,   23.277426 , -124.66064  ]], dtype=float32),\n",
       " array([[ 27.934671  , -30.571081  ,  20.536911  ],\n",
       "        [ 10.051934  ,   1.0598159 ,  11.325975  ],\n",
       "        [ 10.433312  ,  49.66945   ,  24.92495   ],\n",
       "        ...,\n",
       "        [ -8.4575    ,   2.6498876 ,  -7.0715027 ],\n",
       "        [-11.686577  ,   5.1280837 ,   1.8087867 ],\n",
       "        [  0.83219063, -16.58303   ,   3.3774886 ]], dtype=float32),\n",
       " array([[-9.20981467e-01,  6.20281315e+00, -2.85882056e-02],\n",
       "        [-3.30430835e-01,  8.81854916e+00, -9.67518747e-01],\n",
       "        [-2.27370715e+00,  8.90653133e+00, -1.30528295e+00],\n",
       "        ...,\n",
       "        [-4.91794662e+01, -1.22337364e+02, -1.64606438e+01],\n",
       "        [-1.41163254e+02, -6.29618378e+01,  4.18525810e+01],\n",
       "        [-1.15699829e+02,  4.87663364e+00,  7.85589142e+01]], dtype=float32)]"
      ]
     },
     "execution_count": 3,
     "metadata": {},
     "output_type": "execute_result"
    }
   ],
   "source": [
    "X"
   ]
  },
  {
   "cell_type": "code",
   "execution_count": 4,
   "id": "72808b86",
   "metadata": {
    "scrolled": true
   },
   "outputs": [
    {
     "data": {
      "text/plain": [
       "(20, 6000)"
      ]
     },
     "execution_count": 4,
     "metadata": {},
     "output_type": "execute_result"
    }
   ],
   "source": [
    "y.shape"
   ]
  },
  {
   "cell_type": "code",
   "execution_count": 5,
   "id": "6b70007d",
   "metadata": {},
   "outputs": [],
   "source": [
    "from visualizations import plot_creime_rt_data"
   ]
  },
  {
   "cell_type": "code",
   "execution_count": 6,
   "id": "91b7bd72",
   "metadata": {},
   "outputs": [
    {
     "name": "stderr",
     "output_type": "stream",
     "text": [
      "100%|██████████| 20/20 [00:00<00:00, 21.77it/s]\n"
     ]
    },
    {
     "data": {
      "image/png": "[encoded data removed]",
      "text/plain": [
       "<Figure size 504x576 with 4 Axes>"
      ]
     },
     "metadata": {
      "needs_background": "light"
     },
     "output_type": "display_data"
    }
   ],
   "source": [
    "plot_creime_rt_data(X[6], y[6])"
   ]
  },
  {
   "cell_type": "markdown",
   "id": "24a3ef6d",
   "metadata": {},
   "source": [
    "## Loading CREIME_RT"
   ]
  },
  {
   "cell_type": "code",
   "execution_count": 7,
   "id": "5ad4cbd8",
   "metadata": {},
   "outputs": [
    {
     "name": "stdout",
     "output_type": "stream",
     "text": [
      "Model: \"model\"\n",
      "__________________________________________________________________________________________________\n",
      " Layer (type)                   Output Shape         Param #     Connected to                     \n",
      "==================================================================================================\n",
      " input_1 (InputLayer)           [(None, 6000, 3)]    0           []                               \n",
      "                                                                                                  \n",
      " conv1d (Conv1D)                (None, 6000, 64)     1600        ['input_1[0][0]']                \n",
      "                                                                                                  \n",
      " p_re_lu (PReLU)                (None, 6000, 64)     384000      ['conv1d[0][0]']                 \n",
      "                                                                                                  \n",
      " dropout (Dropout)              (None, 6000, 64)     0           ['p_re_lu[0][0]']                \n",
      "                                                                                                  \n",
      " max_pooling1d (MaxPooling1D)   (None, 1500, 64)     0           ['dropout[0][0]']                \n",
      "                                                                                                  \n",
      " conv1d_1 (Conv1D)              (None, 1500, 32)     16416       ['max_pooling1d[0][0]']          \n",
      "                                                                                                  \n",
      " p_re_lu_1 (PReLU)              (None, 1500, 32)     48000       ['conv1d_1[0][0]']               \n",
      "                                                                                                  \n",
      " input_2 (InputLayer)           [(None, 129, 48, 3)  0           []                               \n",
      "                                ]                                                                 \n",
      "                                                                                                  \n",
      " max_pooling1d_1 (MaxPooling1D)  (None, 375, 32)     0           ['p_re_lu_1[0][0]']              \n",
      "                                                                                                  \n",
      " conv2d (Conv2D)                (None, 129, 48, 64)  3136        ['input_2[0][0]']                \n",
      "                                                                                                  \n",
      " conv1d_2 (Conv1D)              (None, 375, 16)      2064        ['max_pooling1d_1[0][0]']        \n",
      "                                                                                                  \n",
      " max_pooling2d (MaxPooling2D)   (None, 64, 24, 64)   0           ['conv2d[0][0]']                 \n",
      "                                                                                                  \n",
      " p_re_lu_2 (PReLU)              (None, 375, 16)      6000        ['conv1d_2[0][0]']               \n",
      "                                                                                                  \n",
      " conv2d_1 (Conv2D)              (None, 61, 21, 32)   32800       ['max_pooling2d[0][0]']          \n",
      "                                                                                                  \n",
      " max_pooling1d_2 (MaxPooling1D)  (None, 94, 16)      0           ['p_re_lu_2[0][0]']              \n",
      "                                                                                                  \n",
      " max_pooling2d_1 (MaxPooling2D)  (None, 30, 10, 32)  0           ['conv2d_1[0][0]']               \n",
      "                                                                                                  \n",
      " conv1d_3 (Conv1D)              (None, 94, 8)        2056        ['max_pooling1d_2[0][0]']        \n",
      "                                                                                                  \n",
      " conv2d_2 (Conv2D)              (None, 27, 7, 8)     4104        ['max_pooling2d_1[0][0]']        \n",
      "                                                                                                  \n",
      " p_re_lu_3 (PReLU)              (None, 94, 8)        752         ['conv1d_3[0][0]']               \n",
      "                                                                                                  \n",
      " max_pooling2d_2 (MaxPooling2D)  (None, 13, 3, 8)    0           ['conv2d_2[0][0]']               \n",
      "                                                                                                  \n",
      " max_pooling1d_3 (MaxPooling1D)  (None, 24, 8)       0           ['p_re_lu_3[0][0]']              \n",
      "                                                                                                  \n",
      " reshape (Reshape)              (None, 39, 8)        0           ['max_pooling2d_2[0][0]']        \n",
      "                                                                                                  \n",
      " concatenate (Concatenate)      (None, 63, 8)        0           ['max_pooling1d_3[0][0]',        \n",
      "                                                                  'reshape[0][0]']                \n",
      "                                                                                                  \n",
      " global_average_pooling1d (Glob  (None, 8)           0           ['concatenate[0][0]']            \n",
      " alAveragePooling1D)                                                                              \n",
      "                                                                                                  \n",
      " dense (Dense)                  (None, 0)            0           ['global_average_pooling1d[0][0]'\n",
      "                                                                 ]                                \n",
      "                                                                                                  \n",
      " activation (Activation)        (None, 0)            0           ['dense[0][0]']                  \n",
      "                                                                                                  \n",
      " dense_1 (Dense)                (None, 8)            8           ['activation[0][0]']             \n",
      "                                                                                                  \n",
      " multiply (Multiply)            (None, 63, 8)        0           ['concatenate[0][0]',            \n",
      "                                                                  'dense_1[0][0]']                \n",
      "                                                                                                  \n",
      " bidirectional (Bidirectional)  (None, 63, 512)      542720      ['multiply[0][0]']               \n",
      "                                                                                                  \n",
      " bidirectional_1 (Bidirectional  (None, 63, 1024)    4198400     ['bidirectional[0][0]']          \n",
      " )                                                                                                \n",
      "                                                                                                  \n",
      " bidirectional_2 (Bidirectional  (None, 1024)        6295552     ['bidirectional_1[0][0]']        \n",
      " )                                                                                                \n",
      "                                                                                                  \n",
      " p_re_lu_4 (PReLU)              (None, 1024)         1024        ['bidirectional_2[0][0]']        \n",
      "                                                                                                  \n",
      " dense_2 (Dense)                (None, 6000)         6150000     ['p_re_lu_4[0][0]']              \n",
      "                                                                                                  \n",
      "==================================================================================================\n",
      "Total params: 17,688,632\n",
      "Trainable params: 17,688,632\n",
      "Non-trainable params: 0\n",
      "__________________________________________________________________________________________________\n"
     ]
    }
   ],
   "source": [
    "from models import CREIME_RT\n",
    "creime_rt = CREIME_RT()\n",
    "print(creime_rt)"
   ]
  },
  {
   "cell_type": "code",
   "execution_count": 8,
   "id": "6cdd451f",
   "metadata": {},
   "outputs": [],
   "source": [
    "y_pred, predictions = creime_rt.predict(X)"
   ]
  },
  {
   "cell_type": "code",
   "execution_count": 9,
   "id": "0921656d",
   "metadata": {},
   "outputs": [
    {
     "data": {
      "image/png": "[encoded data removed]",
      "text/plain": [
       "<Figure size 504x576 with 4 Axes>"
      ]
     },
     "metadata": {
      "needs_background": "light"
     },
     "output_type": "display_data"
    }
   ],
   "source": [
    "plot_creime_rt_data(X[3], y[3], y_pred[3])"
   ]
  },
  {
   "cell_type": "code",
   "execution_count": 10,
   "id": "fafc0c1b",
   "metadata": {},
   "outputs": [
    {
     "data": {
      "text/plain": [
       "[(1, 0.7948961),\n",
       " (1, 0.9236595),\n",
       " (1, 0.6686684),\n",
       " (1, 0.800128),\n",
       " (1, 0.7074902),\n",
       " (1, 1.2207837),\n",
       " (1, 1.7688872),\n",
       " (1, 0.67135894),\n",
       " (1, 0.87974405),\n",
       " (1, 0.82520425),\n",
       " (1, 1.5154514),\n",
       " (1, 2.150598),\n",
       " (1, 0.73329115),\n",
       " (1, 0.8647438),\n",
       " (1, 0.54612666),\n",
       " (1, 0.6089603),\n",
       " (1, 1.0944905),\n",
       " (1, 1.8891462),\n",
       " (1, 0.78746545),\n",
       " (1, 1.3533819)]"
      ]
     },
     "execution_count": 10,
     "metadata": {},
     "output_type": "execute_result"
    }
   ],
   "source": [
    "predictions"
   ]
  },
  {
   "cell_type": "markdown",
   "id": "4092723b",
   "metadata": {},
   "source": [
    "Alternatively"
   ]
  },
  {
   "cell_type": "code",
   "execution_count": 12,
   "id": "66a53f44",
   "metadata": {},
   "outputs": [],
   "source": [
    "model = creime_rt.get_model()"
   ]
  },
  {
   "cell_type": "code",
   "execution_count": null,
   "id": "5d8d1860",
   "metadata": {},
   "outputs": [],
   "source": []
  },
  {
   "cell_type": "code",
   "execution_count": null,
   "id": "2c5ec47c",
   "metadata": {},
   "outputs": [],
   "source": []
  }
 ],
 "metadata": {
  "kernelspec": {
   "display_name": "Python 3",
   "language": "python",
   "name": "python3"
  },
  "language_info": {
   "codemirror_mode": {
    "name": "ipython",
    "version": 3
   },
   "file_extension": ".py",
   "mimetype": "text/x-python",
   "name": "python",
   "nbconvert_exporter": "python",
   "pygments_lexer": "ipython3",
   "version": "3.8.10"
  }
 },
 "nbformat": 4,
 "nbformat_minor": 5
}
