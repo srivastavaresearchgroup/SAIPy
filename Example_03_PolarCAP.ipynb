{
 "cells": [
  {
   "cell_type": "markdown",
   "id": "5b503b93",
   "metadata": {},
   "source": [
    "## Loading the Dataset"
   ]
  },
  {
   "cell_type": "code",
   "execution_count": 1,
   "id": "167fefb3",
   "metadata": {},
   "outputs": [
    {
     "data": {
      "text/html": [
       "<div>\n",
       "<style scoped>\n",
       "    .dataframe tbody tr th:only-of-type {\n",
       "        vertical-align: middle;\n",
       "    }\n",
       "\n",
       "    .dataframe tbody tr th {\n",
       "        vertical-align: top;\n",
       "    }\n",
       "\n",
       "    .dataframe thead th {\n",
       "        text-align: right;\n",
       "    }\n",
       "</style>\n",
       "<table border=\"1\" class=\"dataframe\">\n",
       "  <thead>\n",
       "    <tr style=\"text-align: right;\">\n",
       "      <th></th>\n",
       "      <th>network_code</th>\n",
       "      <th>receiver_code</th>\n",
       "      <th>receiver_type</th>\n",
       "      <th>receiver_latitude</th>\n",
       "      <th>receiver_longitude</th>\n",
       "      <th>receiver_elevation_m</th>\n",
       "      <th>p_arrival_sample</th>\n",
       "      <th>p_status</th>\n",
       "      <th>p_weight</th>\n",
       "      <th>p_travel_sec</th>\n",
       "      <th>...</th>\n",
       "      <th>source_magnitude_author</th>\n",
       "      <th>source_mechanism_strike_dip_rake</th>\n",
       "      <th>source_distance_deg</th>\n",
       "      <th>source_distance_km</th>\n",
       "      <th>back_azimuth_deg</th>\n",
       "      <th>snr_db</th>\n",
       "      <th>coda_end_sample</th>\n",
       "      <th>trace_start_time</th>\n",
       "      <th>trace_category</th>\n",
       "      <th>trace_name</th>\n",
       "    </tr>\n",
       "  </thead>\n",
       "  <tbody>\n",
       "    <tr>\n",
       "      <th>0</th>\n",
       "      <td>TA</td>\n",
       "      <td>109C</td>\n",
       "      <td>HH</td>\n",
       "      <td>32.8889</td>\n",
       "      <td>-117.1051</td>\n",
       "      <td>150.0</td>\n",
       "      <td>NaN</td>\n",
       "      <td>NaN</td>\n",
       "      <td>NaN</td>\n",
       "      <td>NaN</td>\n",
       "      <td>...</td>\n",
       "      <td>NaN</td>\n",
       "      <td>NaN</td>\n",
       "      <td>NaN</td>\n",
       "      <td>NaN</td>\n",
       "      <td>NaN</td>\n",
       "      <td>NaN</td>\n",
       "      <td>NaN</td>\n",
       "      <td>2015-10-21 05:55:00</td>\n",
       "      <td>noise</td>\n",
       "      <td>109C.TA_201510210555_NO</td>\n",
       "    </tr>\n",
       "    <tr>\n",
       "      <th>1</th>\n",
       "      <td>TA</td>\n",
       "      <td>109C</td>\n",
       "      <td>HH</td>\n",
       "      <td>32.8889</td>\n",
       "      <td>-117.1051</td>\n",
       "      <td>150.0</td>\n",
       "      <td>NaN</td>\n",
       "      <td>NaN</td>\n",
       "      <td>NaN</td>\n",
       "      <td>NaN</td>\n",
       "      <td>...</td>\n",
       "      <td>NaN</td>\n",
       "      <td>NaN</td>\n",
       "      <td>NaN</td>\n",
       "      <td>NaN</td>\n",
       "      <td>NaN</td>\n",
       "      <td>NaN</td>\n",
       "      <td>NaN</td>\n",
       "      <td>2015-11-06 14:50:00</td>\n",
       "      <td>noise</td>\n",
       "      <td>109C.TA_201511061450_NO</td>\n",
       "    </tr>\n",
       "    <tr>\n",
       "      <th>2</th>\n",
       "      <td>TA</td>\n",
       "      <td>109C</td>\n",
       "      <td>HH</td>\n",
       "      <td>32.8889</td>\n",
       "      <td>-117.1051</td>\n",
       "      <td>150.0</td>\n",
       "      <td>NaN</td>\n",
       "      <td>NaN</td>\n",
       "      <td>NaN</td>\n",
       "      <td>NaN</td>\n",
       "      <td>...</td>\n",
       "      <td>NaN</td>\n",
       "      <td>NaN</td>\n",
       "      <td>NaN</td>\n",
       "      <td>NaN</td>\n",
       "      <td>NaN</td>\n",
       "      <td>NaN</td>\n",
       "      <td>NaN</td>\n",
       "      <td>2015-11-07 02:20:00</td>\n",
       "      <td>noise</td>\n",
       "      <td>109C.TA_201511070220_NO</td>\n",
       "    </tr>\n",
       "    <tr>\n",
       "      <th>3</th>\n",
       "      <td>TA</td>\n",
       "      <td>109C</td>\n",
       "      <td>HH</td>\n",
       "      <td>32.8889</td>\n",
       "      <td>-117.1051</td>\n",
       "      <td>150.0</td>\n",
       "      <td>NaN</td>\n",
       "      <td>NaN</td>\n",
       "      <td>NaN</td>\n",
       "      <td>NaN</td>\n",
       "      <td>...</td>\n",
       "      <td>NaN</td>\n",
       "      <td>NaN</td>\n",
       "      <td>NaN</td>\n",
       "      <td>NaN</td>\n",
       "      <td>NaN</td>\n",
       "      <td>NaN</td>\n",
       "      <td>NaN</td>\n",
       "      <td>2015-11-14 05:15:00</td>\n",
       "      <td>noise</td>\n",
       "      <td>109C.TA_201511140515_NO</td>\n",
       "    </tr>\n",
       "    <tr>\n",
       "      <th>4</th>\n",
       "      <td>TA</td>\n",
       "      <td>109C</td>\n",
       "      <td>HH</td>\n",
       "      <td>32.8889</td>\n",
       "      <td>-117.1051</td>\n",
       "      <td>150.0</td>\n",
       "      <td>NaN</td>\n",
       "      <td>NaN</td>\n",
       "      <td>NaN</td>\n",
       "      <td>NaN</td>\n",
       "      <td>...</td>\n",
       "      <td>NaN</td>\n",
       "      <td>NaN</td>\n",
       "      <td>NaN</td>\n",
       "      <td>NaN</td>\n",
       "      <td>NaN</td>\n",
       "      <td>NaN</td>\n",
       "      <td>NaN</td>\n",
       "      <td>2015-12-25 18:50:00</td>\n",
       "      <td>noise</td>\n",
       "      <td>109C.TA_201512251850_NO</td>\n",
       "    </tr>\n",
       "  </tbody>\n",
       "</table>\n",
       "<p>5 rows × 35 columns</p>\n",
       "</div>"
      ],
      "text/plain": [
       "  network_code receiver_code receiver_type  receiver_latitude  \\\n",
       "0           TA          109C            HH            32.8889   \n",
       "1           TA          109C            HH            32.8889   \n",
       "2           TA          109C            HH            32.8889   \n",
       "3           TA          109C            HH            32.8889   \n",
       "4           TA          109C            HH            32.8889   \n",
       "\n",
       "   receiver_longitude  receiver_elevation_m  p_arrival_sample p_status  \\\n",
       "0           -117.1051                 150.0               NaN      NaN   \n",
       "1           -117.1051                 150.0               NaN      NaN   \n",
       "2           -117.1051                 150.0               NaN      NaN   \n",
       "3           -117.1051                 150.0               NaN      NaN   \n",
       "4           -117.1051                 150.0               NaN      NaN   \n",
       "\n",
       "   p_weight  p_travel_sec  ...  source_magnitude_author  \\\n",
       "0       NaN           NaN  ...                      NaN   \n",
       "1       NaN           NaN  ...                      NaN   \n",
       "2       NaN           NaN  ...                      NaN   \n",
       "3       NaN           NaN  ...                      NaN   \n",
       "4       NaN           NaN  ...                      NaN   \n",
       "\n",
       "  source_mechanism_strike_dip_rake  source_distance_deg source_distance_km  \\\n",
       "0                              NaN                  NaN                NaN   \n",
       "1                              NaN                  NaN                NaN   \n",
       "2                              NaN                  NaN                NaN   \n",
       "3                              NaN                  NaN                NaN   \n",
       "4                              NaN                  NaN                NaN   \n",
       "\n",
       "  back_azimuth_deg snr_db  coda_end_sample     trace_start_time  \\\n",
       "0              NaN    NaN              NaN  2015-10-21 05:55:00   \n",
       "1              NaN    NaN              NaN  2015-11-06 14:50:00   \n",
       "2              NaN    NaN              NaN  2015-11-07 02:20:00   \n",
       "3              NaN    NaN              NaN  2015-11-14 05:15:00   \n",
       "4              NaN    NaN              NaN  2015-12-25 18:50:00   \n",
       "\n",
       "  trace_category               trace_name  \n",
       "0          noise  109C.TA_201510210555_NO  \n",
       "1          noise  109C.TA_201511061450_NO  \n",
       "2          noise  109C.TA_201511070220_NO  \n",
       "3          noise  109C.TA_201511140515_NO  \n",
       "4          noise  109C.TA_201512251850_NO  \n",
       "\n",
       "[5 rows x 35 columns]"
      ]
     },
     "metadata": {},
     "output_type": "display_data"
    },
    {
     "name": "stdout",
     "output_type": "stream",
     "text": [
      "Dataset containing 1265657 seismological waveforms.\n",
      "Metadata: Available\n",
      "Waveform data: Available\n"
     ]
    }
   ],
   "source": [
    "from data import STEAD\n",
    "stead = STEAD('/home/srivastava-shared/data')\n",
    "print(stead)"
   ]
  },
  {
   "cell_type": "markdown",
   "id": "cc92f815",
   "metadata": {},
   "source": [
    "## Getting Data and Labels in the format for CREIME"
   ]
  },
  {
   "cell_type": "code",
   "execution_count": 2,
   "id": "7c386bef",
   "metadata": {},
   "outputs": [
    {
     "name": "stderr",
     "output_type": "stream",
     "text": [
      " 85%|████████▌ | 17/20 [00:00<00:00, 36.81it/s]"
     ]
    }
   ],
   "source": [
    "X = stead.get_polarcap_data(stead.trace_list()[-20:])"
   ]
  },
  {
   "cell_type": "code",
   "execution_count": 3,
   "id": "1abb5317",
   "metadata": {},
   "outputs": [
    {
     "data": {
      "text/plain": [
       "array([[-2.8525189e-01,  2.5448000e-01, -4.6293716e+00, ...,\n",
       "         9.9314644e+01, -1.6023405e+02, -1.5115138e+02],\n",
       "       [ 5.0538054e+00,  8.4808311e+00,  6.6022897e+00, ...,\n",
       "         2.3498533e+01, -1.2147193e+01, -8.3393993e+00],\n",
       "       [-4.7866292e+00,  3.2013546e+01,  4.1937378e+01, ...,\n",
       "         2.8627124e+02,  2.6816183e+02, -5.4430223e+00],\n",
       "       ...,\n",
       "       [ 4.9083829e+00,  5.3857875e+00, -6.2170334e+00, ...,\n",
       "         4.0760617e+02,  1.2841855e+03,  6.8500421e+02],\n",
       "       [ 1.9710936e+01,  2.3225965e+01,  1.3339982e+01, ...,\n",
       "         1.6665749e+01,  6.0214496e+00, -3.9406204e+01],\n",
       "       [-3.6149843e+00, -3.3677917e+00, -3.1758742e+00, ...,\n",
       "         5.7364048e+01,  1.3742912e+01, -1.4349239e+02]], dtype=float32)"
      ]
     },
     "execution_count": 3,
     "metadata": {},
     "output_type": "execute_result"
    }
   ],
   "source": [
    "X"
   ]
  },
  {
   "cell_type": "code",
   "execution_count": 4,
   "id": "6b70007d",
   "metadata": {},
   "outputs": [],
   "source": [
    "from visualizations import plot_polarcap_data"
   ]
  },
  {
   "cell_type": "code",
   "execution_count": 5,
   "id": "91b7bd72",
   "metadata": {},
   "outputs": [
    {
     "name": "stderr",
     "output_type": "stream",
     "text": [
      "100%|██████████| 20/20 [00:00<00:00, 30.59it/s]\n"
     ]
    },
    {
     "data": {
      "image/png": "[encoded data removed]",
      "text/plain": [
       "<Figure size 360x288 with 1 Axes>"
      ]
     },
     "metadata": {
      "needs_background": "light"
     },
     "output_type": "display_data"
    }
   ],
   "source": [
    "plot_polarcap_data(X[6])"
   ]
  },
  {
   "cell_type": "markdown",
   "id": "24a3ef6d",
   "metadata": {},
   "source": [
    "## Loading PolarCAP"
   ]
  },
  {
   "cell_type": "code",
   "execution_count": 6,
   "id": "5ad4cbd8",
   "metadata": {},
   "outputs": [
    {
     "name": "stdout",
     "output_type": "stream",
     "text": [
      "Model: \"model_20\"\n",
      "__________________________________________________________________________________________________\n",
      " Layer (type)                   Output Shape         Param #     Connected to                     \n",
      "==================================================================================================\n",
      " input_23 (InputLayer)          [(None, 64, 1)]      0           []                               \n",
      "                                                                                                  \n",
      " conv1d_104 (Conv1D)            (None, 64, 32)       1056        ['input_23[0][0]']               \n",
      "                                                                                                  \n",
      " dropout_22 (Dropout)           (None, 64, 32)       0           ['conv1d_104[0][0]']             \n",
      "                                                                                                  \n",
      " batch_normalization_84 (BatchN  (None, 64, 32)      128         ['dropout_22[0][0]']             \n",
      " ormalization)                                                                                    \n",
      "                                                                                                  \n",
      " max_pooling1d_42 (MaxPooling1D  (None, 32, 32)      0           ['batch_normalization_84[0][0]'] \n",
      " )                                                                                                \n",
      "                                                                                                  \n",
      " conv1d_105 (Conv1D)            (None, 32, 8)        4104        ['max_pooling1d_42[0][0]']       \n",
      "                                                                                                  \n",
      " batch_normalization_85 (BatchN  (None, 32, 8)       32          ['conv1d_105[0][0]']             \n",
      " ormalization)                                                                                    \n",
      "                                                                                                  \n",
      " max_pooling1d_43 (MaxPooling1D  (None, 16, 8)       0           ['batch_normalization_85[0][0]'] \n",
      " )                                                                                                \n",
      "                                                                                                  \n",
      " conv1d_106 (Conv1D)            (None, 16, 8)        1032        ['max_pooling1d_43[0][0]']       \n",
      "                                                                                                  \n",
      " batch_normalization_86 (BatchN  (None, 16, 8)       32          ['conv1d_106[0][0]']             \n",
      " ormalization)                                                                                    \n",
      "                                                                                                  \n",
      " up_sampling1d_42 (UpSampling1D  (None, 32, 8)       0           ['batch_normalization_86[0][0]'] \n",
      " )                                                                                                \n",
      "                                                                                                  \n",
      " conv1d_107 (Conv1D)            (None, 32, 32)       8224        ['up_sampling1d_42[0][0]']       \n",
      "                                                                                                  \n",
      " batch_normalization_87 (BatchN  (None, 32, 32)      128         ['conv1d_107[0][0]']             \n",
      " ormalization)                                                                                    \n",
      "                                                                                                  \n",
      " up_sampling1d_43 (UpSampling1D  (None, 64, 32)      0           ['batch_normalization_87[0][0]'] \n",
      " )                                                                                                \n",
      "                                                                                                  \n",
      " flatten_20 (Flatten)           (None, 128)          0           ['max_pooling1d_43[0][0]']       \n",
      "                                                                                                  \n",
      " conv1d_108 (Conv1D)            (None, 64, 1)        2049        ['up_sampling1d_43[0][0]']       \n",
      "                                                                                                  \n",
      " dense_20 (Dense)               (None, 2)            258         ['flatten_20[0][0]']             \n",
      "                                                                                                  \n",
      "==================================================================================================\n",
      "Total params: 17,043\n",
      "Trainable params: 16,883\n",
      "Non-trainable params: 160\n",
      "__________________________________________________________________________________________________\n"
     ]
    }
   ],
   "source": [
    "from models import PolarCAP\n",
    "polarcap = PolarCAP()\n",
    "print(polarcap)"
   ]
  },
  {
   "cell_type": "code",
   "execution_count": 7,
   "id": "6cdd451f",
   "metadata": {},
   "outputs": [],
   "source": [
    "predictions = polarcap.predict(X)"
   ]
  },
  {
   "cell_type": "code",
   "execution_count": 8,
   "id": "0921656d",
   "metadata": {},
   "outputs": [
    {
     "data": {
      "image/png": "[encoded data removed]",
      "text/plain": [
       "<Figure size 360x288 with 1 Axes>"
      ]
     },
     "metadata": {
      "needs_background": "light"
     },
     "output_type": "display_data"
    }
   ],
   "source": [
    "plot_polarcap_data(X[3], predictions[3])"
   ]
  },
  {
   "cell_type": "code",
   "execution_count": 9,
   "id": "fafc0c1b",
   "metadata": {},
   "outputs": [
    {
     "data": {
      "text/plain": [
       "[('Positive', 0.999995),\n",
       " ('Positive', 0.99998987),\n",
       " ('Positive', 0.98861665),\n",
       " ('Positive', 0.9991629),\n",
       " ('Positive', 0.99995756),\n",
       " ('Positive', 0.9994506),\n",
       " ('Positive', 0.9880166),\n",
       " ('Negative', 0.9534959),\n",
       " ('Positive', 0.99986684),\n",
       " ('Negative', 0.99048024),\n",
       " ('Positive', 0.9995993),\n",
       " ('Positive', 0.999851),\n",
       " ('Positive', 0.9994962),\n",
       " ('Negative', 0.9998591),\n",
       " ('Negative', 0.9997756),\n",
       " ('Negative', 0.9999994),\n",
       " ('Positive', 0.99996495),\n",
       " ('Positive', 0.9998559),\n",
       " ('Negative', 0.8240372),\n",
       " ('Negative', 0.9999751)]"
      ]
     },
     "execution_count": 9,
     "metadata": {},
     "output_type": "execute_result"
    }
   ],
   "source": [
    "predictions"
   ]
  },
  {
   "cell_type": "markdown",
   "id": "4092723b",
   "metadata": {},
   "source": [
    "Alternatively"
   ]
  },
  {
   "cell_type": "code",
   "execution_count": 10,
   "id": "66a53f44",
   "metadata": {},
   "outputs": [],
   "source": [
    "model = polarcap.get_model()"
   ]
  },
  {
   "cell_type": "code",
   "execution_count": 11,
   "id": "b7f9747c",
   "metadata": {},
   "outputs": [],
   "source": [
    "y_pred = model.predict(X)"
   ]
  },
  {
   "cell_type": "code",
   "execution_count": null,
   "id": "2c5ec47c",
   "metadata": {},
   "outputs": [],
   "source": []
  }
 ],
 "metadata": {
  "kernelspec": {
   "display_name": "Python 3",
   "language": "python",
   "name": "python3"
  },
  "language_info": {
   "codemirror_mode": {
    "name": "ipython",
    "version": 3
   },
   "file_extension": ".py",
   "mimetype": "text/x-python",
   "name": "python",
   "nbconvert_exporter": "python",
   "pygments_lexer": "ipython3",
   "version": "3.8.10"
  }
 },
 "nbformat": 4,
 "nbformat_minor": 5
}
