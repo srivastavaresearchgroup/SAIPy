{
 "cells": [
  {
   "cell_type": "markdown",
   "id": "2e3fe766",
   "metadata": {},
   "source": [
    "## Tutorial to use DynaPicker\n",
    "\n",
    "This tutorial introduces the dynapicker model. It explains how to load the pretrained model and apply it to generate discrete picks, and how to retrain the model."
   ]
  },
  {
   "cell_type": "code",
   "execution_count": 1,
   "id": "250d6bb0",
   "metadata": {},
   "outputs": [
    {
     "name": "stderr",
     "output_type": "stream",
     "text": [
      "/home/seismoai/data/chakraborty/DeepSeis_venv/lib/python3.8/site-packages/tqdm/auto.py:21: TqdmWarning: IProgress not found. Please update jupyter and ipywidgets. See https://ipywidgets.readthedocs.io/en/stable/user_install.html\n",
      "  from .autonotebook import tqdm as notebook_tqdm\n"
     ]
    }
   ],
   "source": [
    "import os\n",
    "import sys\n",
    "import numpy as np\n",
    "import pandas as pd\n",
    "import torch\n",
    "sys.path.insert(0, '..')\n",
    "from deepseis.utils.picktools import *\n",
    "from deepseis.utils.visualizations import *\n",
    "import h5py\n",
    "import obspy\n",
    "from obspy import read\n",
    "from obspy.clients.fdsn import Client\n",
    "from obspy import UTCDateTime\n",
    "import datetime\n",
    "import glob\n",
    "import matplotlib.pyplot as plt\n",
    "import matplotlib as mpl\n",
    "import matplotlib.pyplot as plt\n",
    "from matplotlib.dates import date2num\n",
    "from matplotlib.lines import Line2D\n",
    "import matplotlib.dates as mdates\n",
    "import matplotlib.gridspec as gridspec\n",
    "import datetime\n",
    "import warnings"
   ]
  },
  {
   "cell_type": "markdown",
   "id": "896589bf",
   "metadata": {},
   "source": [
    "## phase-picking using pre-trained model\n",
    "### (1) Loading pre-trained model"
   ]
  },
  {
   "cell_type": "code",
   "execution_count": 3,
   "id": "c1cd37a2",
   "metadata": {},
   "outputs": [
    {
     "ename": "RuntimeError",
     "evalue": "CUDA error: out of memory\nCUDA kernel errors might be asynchronously reported at some other API call,so the stacktrace below might be incorrect.\nFor debugging consider passing CUDA_LAUNCH_BLOCKING=1.",
     "output_type": "error",
     "traceback": [
      "\u001b[0;31m---------------------------------------------------------------------------\u001b[0m",
      "\u001b[0;31mRuntimeError\u001b[0m                              Traceback (most recent call last)",
      "Cell \u001b[0;32mIn[3], line 3\u001b[0m\n\u001b[1;32m      1\u001b[0m \u001b[38;5;28;01mif\u001b[39;00m torch\u001b[38;5;241m.\u001b[39mcuda\u001b[38;5;241m.\u001b[39mis_available():\n\u001b[1;32m      2\u001b[0m     device \u001b[38;5;241m=\u001b[39m torch\u001b[38;5;241m.\u001b[39mdevice(\u001b[38;5;124m'\u001b[39m\u001b[38;5;124mcuda\u001b[39m\u001b[38;5;124m'\u001b[39m)\n\u001b[0;32m----> 3\u001b[0m     model \u001b[38;5;241m=\u001b[39m \u001b[43mtorch\u001b[49m\u001b[38;5;241;43m.\u001b[39;49m\u001b[43mjit\u001b[49m\u001b[38;5;241;43m.\u001b[39;49m\u001b[43mload\u001b[49m\u001b[43m(\u001b[49m\u001b[38;5;124;43m'\u001b[39;49m\u001b[38;5;124;43m../deepseis/saved_models/saved_model.pt\u001b[39;49m\u001b[38;5;124;43m'\u001b[39;49m\u001b[43m)\u001b[49m\n\u001b[1;32m      4\u001b[0m \u001b[38;5;28;01melse\u001b[39;00m:\n\u001b[1;32m      5\u001b[0m     device \u001b[38;5;241m=\u001b[39m torch\u001b[38;5;241m.\u001b[39mdevice(\u001b[38;5;124m'\u001b[39m\u001b[38;5;124mcpu\u001b[39m\u001b[38;5;124m'\u001b[39m)\n",
      "File \u001b[0;32m/home/seismoai/data/chakraborty/DeepSeis_venv/lib/python3.8/site-packages/torch/jit/_serialization.py:162\u001b[0m, in \u001b[0;36mload\u001b[0;34m(f, map_location, _extra_files)\u001b[0m\n\u001b[1;32m    160\u001b[0m cu \u001b[38;5;241m=\u001b[39m torch\u001b[38;5;241m.\u001b[39m_C\u001b[38;5;241m.\u001b[39mCompilationUnit()\n\u001b[1;32m    161\u001b[0m \u001b[38;5;28;01mif\u001b[39;00m \u001b[38;5;28misinstance\u001b[39m(f, \u001b[38;5;28mstr\u001b[39m) \u001b[38;5;129;01mor\u001b[39;00m \u001b[38;5;28misinstance\u001b[39m(f, pathlib\u001b[38;5;241m.\u001b[39mPath):\n\u001b[0;32m--> 162\u001b[0m     cpp_module \u001b[38;5;241m=\u001b[39m \u001b[43mtorch\u001b[49m\u001b[38;5;241;43m.\u001b[39;49m\u001b[43m_C\u001b[49m\u001b[38;5;241;43m.\u001b[39;49m\u001b[43mimport_ir_module\u001b[49m\u001b[43m(\u001b[49m\u001b[43mcu\u001b[49m\u001b[43m,\u001b[49m\u001b[43m \u001b[49m\u001b[38;5;28;43mstr\u001b[39;49m\u001b[43m(\u001b[49m\u001b[43mf\u001b[49m\u001b[43m)\u001b[49m\u001b[43m,\u001b[49m\u001b[43m \u001b[49m\u001b[43mmap_location\u001b[49m\u001b[43m,\u001b[49m\u001b[43m \u001b[49m\u001b[43m_extra_files\u001b[49m\u001b[43m)\u001b[49m\n\u001b[1;32m    163\u001b[0m \u001b[38;5;28;01melse\u001b[39;00m:\n\u001b[1;32m    164\u001b[0m     cpp_module \u001b[38;5;241m=\u001b[39m torch\u001b[38;5;241m.\u001b[39m_C\u001b[38;5;241m.\u001b[39mimport_ir_module_from_buffer(\n\u001b[1;32m    165\u001b[0m         cu, f\u001b[38;5;241m.\u001b[39mread(), map_location, _extra_files\n\u001b[1;32m    166\u001b[0m     )\n",
      "\u001b[0;31mRuntimeError\u001b[0m: CUDA error: out of memory\nCUDA kernel errors might be asynchronously reported at some other API call,so the stacktrace below might be incorrect.\nFor debugging consider passing CUDA_LAUNCH_BLOCKING=1."
     ]
    }
   ],
   "source": [
    "if torch.cuda.is_available():\n",
    "    device = torch.device('cuda')\n",
    "    model = torch.jit.load('../deepseis/saved_models/saved_model.pt')\n",
    "else:\n",
    "    device = torch.device('cpu')\n",
    "    model = torch.jit.load('../deepseis/saved_models/saved_model.pt', map_location= device)\n",
    "\n",
    "print(\"Device: \",device)\n",
    "model = model.to(device)"
   ]
  },
  {
   "cell_type": "markdown",
   "id": "453b220e",
   "metadata": {},
   "source": [
    "### (2) parameters "
   ]
  },
  {
   "cell_type": "code",
   "execution_count": 3,
   "id": "aef19dd4",
   "metadata": {},
   "outputs": [],
   "source": [
    "n_shift = 10    # Number of samples to shift the sliding window at a time\n",
    "fremin  = 1     # min corner frequency for the bandpass filter.\n",
    "fremax  = 40    # max corner frequency for the bandpass filter. \n",
    "fo      = 5     # filter order. \n",
    "fs      = 100   # Sampling rate: 100Hz.\n",
    "bandpass_filter = True\n",
    "threp = 0.8\n",
    "thres = 0.8\n",
    "\n",
    "prop_cycle = plt.rcParams['axes.prop_cycle']\n",
    "colors = prop_cycle.by_key()['color']\n",
    "params = {'legend.fontsize': 16,\n",
    "         'axes.labelsize': 16,\n",
    "         'axes.titlesize': 16,\n",
    "         'xtick.labelsize':16,\n",
    "         'ytick.labelsize':16}\n",
    "plt.rcParams.update(params)"
   ]
  },
  {
   "cell_type": "markdown",
   "id": "39671f5b",
   "metadata": {},
   "source": [
    "### (3) For numpy array data : (i) an example using STEAD dataset"
   ]
  },
  {
   "cell_type": "code",
   "execution_count": 4,
   "id": "97170772",
   "metadata": {},
   "outputs": [
    {
     "ename": "NameError",
     "evalue": "name 'model' is not defined",
     "output_type": "error",
     "traceback": [
      "\u001b[0;31m---------------------------------------------------------------------------\u001b[0m",
      "\u001b[0;31mNameError\u001b[0m                                 Traceback (most recent call last)",
      "Cell \u001b[0;32mIn[4], line 13\u001b[0m\n\u001b[1;32m     10\u001b[0m dataset \u001b[38;5;241m=\u001b[39m waveform\u001b[38;5;241m.\u001b[39mget(\u001b[38;5;124m'\u001b[39m\u001b[38;5;124mdata/\u001b[39m\u001b[38;5;124m'\u001b[39m\u001b[38;5;241m+\u001b[39m\u001b[38;5;28mstr\u001b[39m(evi)) \n\u001b[1;32m     11\u001b[0m target_stream \u001b[38;5;241m=\u001b[39m make_stream_stead(dataset) \n\u001b[0;32m---> 13\u001b[0m prob_p, prob_s, pwave, swave \u001b[38;5;241m=\u001b[39m phase_picking(device, \u001b[43mmodel\u001b[49m, target_stream, bandpass_filter,\n\u001b[1;32m     14\u001b[0m                                                  n_shift, fremin, fremax, fo, fs)\n\u001b[1;32m     15\u001b[0m \u001b[38;5;66;03m## index: 0 - E, 1 -N, 2- 'Z'\u001b[39;00m\n\u001b[1;32m     16\u001b[0m figure_size \u001b[38;5;241m=\u001b[39m (\u001b[38;5;241m8\u001b[39m,\u001b[38;5;241m6\u001b[39m)\n",
      "\u001b[0;31mNameError\u001b[0m: name 'model' is not defined"
     ]
    }
   ],
   "source": [
    "from deepseis.data.base import STEAD\n",
    "stead = STEAD('/home/seismoai/data')\n",
    "metadata,waveform = stead.get_dynapicker_data()\n",
    "\n",
    "## here you can manually choose differen trace\n",
    "df = metadata[(metadata.trace_category == 'earthquake_local')]\n",
    "\n",
    "ev_list = df['trace_name'].to_list()[10:11]\n",
    "for c, evi in enumerate(ev_list):\n",
    "    dataset = waveform.get('data/'+str(evi)) \n",
    "    target_stream = make_stream_stead(dataset) \n",
    "\n",
    "    prob_p, prob_s, pwave, swave = phase_picking(device, model, target_stream, bandpass_filter,\n",
    "                                                     n_shift, fremin, fremax, fo, fs)\n",
    "    ## index: 0 - E, 1 -N, 2- 'Z'\n",
    "    figure_size = (8,6)\n",
    "    plot_dynapicker_stead(target_stream, dataset, prob_p, prob_s, n_shift, figure_size, index = 0)\n",
    "        "
   ]
  },
  {
   "cell_type": "markdown",
   "id": "6bdb8499",
   "metadata": {},
   "source": [
    "### (3) For numpy array: (ii) an example using INSTANCE dataset"
   ]
  },
  {
   "cell_type": "code",
   "execution_count": null,
   "id": "5cd57b38",
   "metadata": {},
   "outputs": [],
   "source": [
    "from deepseis.data.base import INSTANCE\n",
    "instance = INSTANCE('/home/seismoai/data')\n",
    "instance_metadata, instance_waveform = instance.get_dynapicker_data(event_type ='EQ')\n",
    "\n",
    "filt = True ## if true, the bandpass filter is used\n",
    "freq_min=3.0\n",
    "freq_max=20.0\n",
    "wftype='ev_c'\n",
    "line = 1000\n",
    "df = instance_metadata\n",
    "h5 = instance_waveform\n",
    "stream,row = make_stream_instance(df,h5,line, wftype, filt, freq_min, freq_max)\n",
    "\n",
    "\n",
    "bandpass_filter = None\n",
    "prob_p, prob_s, pwave, swave = phase_picking(device, model, stream, bandpass_filter,\n",
    "                                                     n_shift, fremin , fremax, fo, fs)\n",
    "figure_size =  (8,6)\n",
    "plot_dynapicker_stream(stream, prob_p, prob_s, n_shift, figure_size)\n"
   ]
  },
  {
   "cell_type": "markdown",
   "id": "eea16bf9",
   "metadata": {},
   "source": [
    "### (4) Directly online streams testing "
   ]
  },
  {
   "cell_type": "code",
   "execution_count": null,
   "id": "6bf8d601",
   "metadata": {},
   "outputs": [],
   "source": [
    "client = Client(\"INGV\")\n",
    "\n",
    "t = UTCDateTime(2009, 4, 6, 1, 30)\n",
    "stream = client.get_waveforms(network=\"MN\", station=\"AQU\", \n",
    "                              location=\"*\", channel=\"HH?\", \n",
    "                              starttime=t, endtime=t+60)\n",
    "\n",
    "bandpass_filter =  True\n",
    "prob_p, prob_s, pwave, swave = phase_picking(device, model,stream, \n",
    "                                             bandpass_filter, \n",
    "                                             n_shift, \n",
    "                                             fremin, \n",
    "                                             fremax,\n",
    "                                             fo, \n",
    "                                             fs)\n",
    "## result visualization \n",
    "plot_dynapicker_stream(stream, prob_p, prob_s, n_shift, figure_size =  (8,6))"
   ]
  }
 ],
 "metadata": {
  "kernelspec": {
   "display_name": "Python 3 (ipykernel)",
   "language": "python",
   "name": "python3"
  },
  "language_info": {
   "codemirror_mode": {
    "name": "ipython",
    "version": 3
   },
   "file_extension": ".py",
   "mimetype": "text/x-python",
   "name": "python",
   "nbconvert_exporter": "python",
   "pygments_lexer": "ipython3",
   "version": "3.8.10"
  },
  "vscode": {
   "interpreter": {
    "hash": "09280467b34d8f0c121bcdc518c8663b2b9d8145014e2f9e23f40361db9d62d2"
   }
  }
 },
 "nbformat": 4,
 "nbformat_minor": 5
}
